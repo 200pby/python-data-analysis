{
 "cells": [
  {
   "cell_type": "markdown",
   "id": "5057653d",
   "metadata": {},
   "source": [
    "## 4.1异常值的检测与处理\n",
    "本Notebook演示：\n",
    "- 异常值的定义\n",
    "- 3σ原则检测异常值\n",
    "- 箱型图检测异常值\n",
    "- pandas.replace方法替换异常值"
   ]
  },
  {
   "cell_type": "markdown",
   "id": "9e85c42f",
   "metadata": {},
   "source": [
    "## 概念\n",
    "**异常值**是指数据集中个别值明显偏离其所属数据集的其余值，这些数值是不合理或错误的。"
   ]
  },
  {
   "cell_type": "markdown",
   "id": "9f07149f",
   "metadata": {},
   "source": [
    "## 检测方法\n",
    "- 3σ原则：适用于近似正态分布的数据集\n",
    "- 箱型图：可检测任意数据集，无分布要求"
   ]
  },
  {
   "cell_type": "code",
   "execution_count": 1,
   "id": "77aece72",
   "metadata": {},
   "outputs": [
    {
     "data": {
      "text/html": [
       "<div>\n",
       "<style scoped>\n",
       "    .dataframe tbody tr th:only-of-type {\n",
       "        vertical-align: middle;\n",
       "    }\n",
       "\n",
       "    .dataframe tbody tr th {\n",
       "        vertical-align: top;\n",
       "    }\n",
       "\n",
       "    .dataframe thead th {\n",
       "        text-align: right;\n",
       "    }\n",
       "</style>\n",
       "<table border=\"1\" class=\"dataframe\">\n",
       "  <thead>\n",
       "    <tr style=\"text-align: right;\">\n",
       "      <th></th>\n",
       "      <th>A</th>\n",
       "      <th>B</th>\n",
       "    </tr>\n",
       "  </thead>\n",
       "  <tbody>\n",
       "    <tr>\n",
       "      <th>0</th>\n",
       "      <td>52.483571</td>\n",
       "      <td>10.715575</td>\n",
       "    </tr>\n",
       "    <tr>\n",
       "      <th>1</th>\n",
       "      <td>49.308678</td>\n",
       "      <td>11.121569</td>\n",
       "    </tr>\n",
       "    <tr>\n",
       "      <th>2</th>\n",
       "      <td>53.238443</td>\n",
       "      <td>12.166102</td>\n",
       "    </tr>\n",
       "    <tr>\n",
       "      <th>3</th>\n",
       "      <td>57.615149</td>\n",
       "      <td>12.107604</td>\n",
       "    </tr>\n",
       "    <tr>\n",
       "      <th>4</th>\n",
       "      <td>48.829233</td>\n",
       "      <td>7.244661</td>\n",
       "    </tr>\n",
       "  </tbody>\n",
       "</table>\n",
       "</div>"
      ],
      "text/plain": [
       "           A          B\n",
       "0  52.483571  10.715575\n",
       "1  49.308678  11.121569\n",
       "2  53.238443  12.166102\n",
       "3  57.615149  12.107604\n",
       "4  48.829233   7.244661"
      ]
     },
     "execution_count": 1,
     "metadata": {},
     "output_type": "execute_result"
    }
   ],
   "source": [
    "import numpy as np\n",
    "import pandas as pd\n",
    "import matplotlib.pyplot as plt\n",
    "plt.rcParams['font.sans-serif'] = ['SimHei']  # 或 ['Microsoft YaHei']\n",
    "plt.rcParams['axes.unicode_minus'] = False    # 解决负号显示问题\n",
    "np.random.seed(42)\n",
    "# 构造数据，包含异常值\n",
    "a = np.random.normal(50, 5, 200).tolist() + [100, 110]\n",
    "b = np.random.normal(10, 2, 200).tolist() + [-20, 30]\n",
    "df = pd.DataFrame({'A': a, 'B': b})\n",
    "df.head()"
   ]
  },
  {
   "cell_type": "markdown",
   "id": "bbc68834",
   "metadata": {},
   "source": [
    "### 3σ原则检测异常值\n",
    "3σ原则：数据几乎全部集中在(μ-3σ, μ+3σ)内，超出该区间的概率仅约0.3%。"
   ]
  },
  {
   "cell_type": "code",
   "execution_count": 2,
   "id": "c63cc637",
   "metadata": {},
   "outputs": [
    {
     "name": "stdout",
     "output_type": "stream",
     "text": [
      "A列3σ异常值:\n",
      "200    100.0\n",
      "201    110.0\n",
      "Name: A, dtype: float64\n",
      "B列3σ异常值:\n",
      "200   -20.0\n",
      "201    30.0\n",
      "Name: B, dtype: float64\n"
     ]
    }
   ],
   "source": [
    "def three_sigma(ser):\n",
    "    mean = ser.mean()\n",
    "    std = ser.std()\n",
    "    rule = (ser < mean-3*std) | (ser > mean+3*std)\n",
    "    return ser[rule]\n",
    "print('A列3σ异常值:')\n",
    "print(three_sigma(df['A']))\n",
    "print('B列3σ异常值:')\n",
    "print(three_sigma(df['B']))"
   ]
  },
  {
   "cell_type": "markdown",
   "id": "ff981af0",
   "metadata": {},
   "source": [
    "### 箱型图检测异常值\n",
    "箱型图通过上下四分位数和IQR识别异常值。"
   ]
  },
  {
   "cell_type": "code",
   "execution_count": 3,
   "id": "fb9ef936",
   "metadata": {},
   "outputs": [
    {
     "data": {
      "image/png": "[encoded data removed]",
      "text/plain": [
       "<Figure size 640x480 with 1 Axes>"
      ]
     },
     "metadata": {},
     "output_type": "display_data"
    }
   ],
   "source": [
    "%matplotlib inline\n",
    "df.boxplot(column=['A', 'B'])\n",
    "plt.title('箱型图检测异常值')\n",
    "plt.show()"
   ]
  },
  {
   "cell_type": "code",
   "execution_count": 4,
   "id": "669fc775",
   "metadata": {},
   "outputs": [
    {
     "name": "stdout",
     "output_type": "stream",
     "text": [
      "A列箱型图异常值:\n",
      "74      36.901274\n",
      "113     62.316211\n",
      "179     63.600846\n",
      "200    100.000000\n",
      "201    110.000000\n",
      "Name: A, dtype: float64\n",
      "B列箱型图异常值:\n",
      "200   -20.000000\n",
      "62      3.517465\n",
      "9      17.705463\n",
      "201    30.000000\n",
      "Name: B, dtype: float64\n"
     ]
    }
   ],
   "source": [
    "def box_outliers(ser):\n",
    "    new_ser = ser.sort_values()\n",
    "    Q1 = new_ser.quantile(0.25)\n",
    "    Q3 = new_ser.quantile(0.75)\n",
    "    IQR = Q3 - Q1\n",
    "    rule = (new_ser < Q1-1.5*IQR) | (new_ser > Q3+1.5*IQR)\n",
    "    return new_ser[rule]\n",
    "print('A列箱型图异常值:')\n",
    "print(box_outliers(df['A']))\n",
    "print('B列箱型图异常值:')\n",
    "print(box_outliers(df['B']))"
   ]
  },
  {
   "cell_type": "markdown",
   "id": "d51871bf",
   "metadata": {},
   "source": [
    "## 4.1.6 异常值的处理\n",
    "检测出异常值后，需进一步确认是否为真正的异常值，通常用指定值或算法替换。"
   ]
  },
  {
   "cell_type": "markdown",
   "id": "129113c9",
   "metadata": {},
   "source": [
    "### pandas.replace方法语法\n",
    "replace(to_replace=None, value=None, inplace=False, ...)"
   ]
  },
  {
   "cell_type": "code",
   "execution_count": 5,
   "id": "6f0a9d99",
   "metadata": {},
   "outputs": [
    {
     "data": {
      "text/plain": [
       "A\n",
       "52.483571    1\n",
       "49.308678    1\n",
       "53.238443    1\n",
       "57.615149    1\n",
       "48.829233    1\n",
       "Name: count, dtype: int64"
      ]
     },
     "execution_count": 5,
     "metadata": {},
     "output_type": "execute_result"
    }
   ],
   "source": [
    "# 替换一个异常值\n",
    "df1 = df.copy()\n",
    "df1['A'] = df1['A'].replace(to_replace=100, value=60)\n",
    "df1['A'].value_counts().head()"
   ]
  },
  {
   "cell_type": "code",
   "execution_count": 6,
   "id": "add1dee4",
   "metadata": {},
   "outputs": [
    {
     "data": {
      "text/plain": [
       "A\n",
       "52.483571    1\n",
       "49.308678    1\n",
       "53.238443    1\n",
       "57.615149    1\n",
       "48.829233    1\n",
       "Name: count, dtype: int64"
      ]
     },
     "execution_count": 6,
     "metadata": {},
     "output_type": "execute_result"
    }
   ],
   "source": [
    "# 替换多个异常值\n",
    "df2 = df.copy()\n",
    "df2['A'] = df2['A'].replace(to_replace=[100,110], value=[60,65])\n",
    "df2['A'].value_counts().head()"
   ]
  },
  {
   "cell_type": "markdown",
   "id": "7ab96b86",
   "metadata": {},
   "source": [
    "### 替换前后箱型图对比"
   ]
  },
  {
   "cell_type": "code",
   "execution_count": 7,
   "id": "962a53db",
   "metadata": {},
   "outputs": [
    {
     "data": {
      "image/png": "[encoded data removed]",
      "text/plain": [
       "<Figure size 1200x400 with 3 Axes>"
      ]
     },
     "metadata": {},
     "output_type": "display_data"
    }
   ],
   "source": [
    "fig, axes = plt.subplots(1,3, figsize=(12,4), sharey=True)\n",
    "df.boxplot(column=['A'], ax=axes[0]); axes[0].set_title('原始A')\n",
    "df1.boxplot(column=['A'], ax=axes[1]); axes[1].set_title('替换100为60')\n",
    "df2.boxplot(column=['A'], ax=axes[2]); axes[2].set_title('替换100,110为60,65')\n",
    "plt.tight_layout()\n",
    "plt.show()"
   ]
  },
  {
   "cell_type": "markdown",
   "id": "4db6fc88",
   "metadata": {},
   "source": []
  },
  {
   "cell_type": "markdown",
   "id": "53a4cf49",
   "metadata": {},
   "source": [
    "# 4.2 数据合并\n",
    "本节内容：\n",
    "- 堆叠合并（concat）\n",
    "- 主键合并（merge）\n",
    "- 根据索引合并（join）\n",
    "- 合并重叠数据（combine_first）\n",
    "---"
   ]
  },
  {
   "cell_type": "markdown",
   "id": "88eebc09",
   "metadata": {},
   "source": [
    "## 4.2.1 堆叠合并\n",
    "### 概念\n",
    "在数据分析前，数据可能来自不同文件或数据库，需要合并。pandas提供了多种合并方式：堆叠合并、主键合并、根据索引合并、合并重叠数据。\n",
    "\n",
    "### 语法格式\n",
    "```python\n",
    "pd.concat(objs, axis=0, join='outer', ignore_index=False, keys=None, ...)\n",
    "```\n",
    "- objs：合并的多个对象（Series或DataFrame）\n",
    "- axis：合并方向，0为纵向，1为横向\n",
    "- join：连接方式，'outer'为外连接，'inner'为内连接\n",
    "- ignore_index：是否忽略索引\n",
    "\n",
    "---"
   ]
  },
  {
   "cell_type": "code",
   "execution_count": 8,
   "id": "2aa67362",
   "metadata": {},
   "outputs": [
    {
     "name": "stdout",
     "output_type": "stream",
     "text": [
      "纵向堆叠结果:\n",
      "    A   B   C\n",
      "0  A0  B0  C0\n",
      "1  A1  B1  C1\n",
      "2  A2  B2  C2\n",
      "0  A3  B3  C3\n",
      "1  A4  B4  C4\n",
      "横向堆叠（外连接）结果:\n",
      "    A   B   C   D   C\n",
      "0  A0  B0  C0  D0  C5\n",
      "1  A1  B1  C1  D1  C6\n",
      "2  A2  B2  C2  D2  C7\n",
      "横向堆叠（内连接）结果:\n",
      "    A   B   C   D   C\n",
      "0  A0  B0  C0  D0  C5\n",
      "1  A1  B1  C1  D1  C6\n",
      "2  A2  B2  C2  D2  C7\n"
     ]
    }
   ],
   "source": [
    "# 堆叠合并示例\n",
    "import pandas as pd\n",
    "import numpy as np\n",
    "\n",
    "df1 = pd.DataFrame({'A': ['A0', 'A1', 'A2'], 'B': ['B0', 'B1', 'B2'], 'C': ['C0', 'C1', 'C2']})\n",
    "df2 = pd.DataFrame({'A': ['A3', 'A4'], 'B': ['B3', 'B4'], 'C': ['C3', 'C4']})\n",
    "\n",
    "# 纵向堆叠\n",
    "result1 = pd.concat([df1, df2], axis=0)\n",
    "print('纵向堆叠结果:')\n",
    "print(result1)\n",
    "\n",
    "# 横向堆叠（外连接）\n",
    "df3 = pd.DataFrame({'D': ['D0', 'D1', 'D2'], 'C': ['C5', 'C6', 'C7']})\n",
    "result2 = pd.concat([df1, df3], axis=1, join='outer')\n",
    "print('横向堆叠（外连接）结果:')\n",
    "print(result2)\n",
    "\n",
    "# 横向堆叠（内连接）\n",
    "result3 = pd.concat([df1, df3], axis=1, join='inner')\n",
    "print('横向堆叠（内连接）结果:')\n",
    "print(result3)"
   ]
  },
  {
   "cell_type": "markdown",
   "id": "5bf4a85f",
   "metadata": {},
   "source": [
    "---\n",
    "## 4.2.2 主键合并\n",
    "### 概念\n",
    "主键合并类似于数据库的主键查询，根据一个或多个键将两个对象合并。\n",
    "\n",
    "### 语法格式\n",
    "```python\n",
    "pd.merge(left, right, how='inner', on=None, left_on=None, right_on=None, ...)\n",
    "```\n",
    "- left/right：参与合并的DataFrame对象\n",
    "- how：合并方式，'inner'、'outer'、'left'、'right'\n",
    "- on：合并的键\n",
    "\n",
    "---"
   ]
  },
  {
   "cell_type": "code",
   "execution_count": 9,
   "id": "9931d998",
   "metadata": {},
   "outputs": [
    {
     "name": "stdout",
     "output_type": "stream",
     "text": [
      "根据一个键合并（内连接）:\n",
      "  key A_x   B A_y   C\n",
      "0  K0  A0  B0  A0  C0\n",
      "1  K2  A2  B2  A1  C1\n",
      "根据两个键合并（内连接）:\n",
      "  key   A   B   C\n",
      "0  K0  A0  B0  C0\n",
      "全外连接:\n",
      "  key  A_x    B  A_y    C\n",
      "0  K0   A0   B0   A0   C0\n",
      "1  K1   A1   B1  NaN  NaN\n",
      "2  K2   A2   B2   A1   C1\n",
      "3  K3  NaN  NaN   A2   C2\n",
      "4  K5  NaN  NaN   A3   C3\n",
      "左连接:\n",
      "  key A_x   B  A_y    C\n",
      "0  K0  A0  B0   A0   C0\n",
      "1  K1  A1  B1  NaN  NaN\n",
      "2  K2  A2  B2   A1   C1\n",
      "索引合并:\n",
      "    A   B   C   D\n",
      "a  A0  B0  C0  D0\n",
      "b  A1  B1  C1  D1\n",
      "c  A2  B2  C2  D2\n"
     ]
    }
   ],
   "source": [
    "# 主键合并示例\n",
    "left = pd.DataFrame({'key': ['K0', 'K1', 'K2'], 'A': ['A0', 'A1', 'A2'], 'B': ['B0', 'B1', 'B2']})\n",
    "right = pd.DataFrame({'key': ['K0', 'K2', 'K3', 'K5'], 'A': ['A0', 'A1', 'A2', 'A3'], 'C': ['C0', 'C1', 'C2', 'C3']})\n",
    "\n",
    "# 根据一个键合并（内连接）\n",
    "result1 = pd.merge(left, right, on='key', how='inner')\n",
    "print('根据一个键合并（内连接）:')\n",
    "print(result1)\n",
    "\n",
    "# 根据两个键合并（内连接）\n",
    "left2 = pd.DataFrame({'key': ['K0', 'K1', 'K2'], 'A': ['A0', 'A1', 'A2'], 'B': ['B0', 'B1', 'B2']})\n",
    "right2 = pd.DataFrame({'key': ['K0', 'K2', 'K3', 'K5'], 'A': ['A0', 'A1', 'A2', 'A3'], 'C': ['C0', 'C1', 'C2', 'C3']})\n",
    "result2 = pd.merge(left2, right2, on=['key', 'A'], how='inner')\n",
    "print('根据两个键合并（内连接）:')\n",
    "print(result2)\n",
    "\n",
    "# 全外连接\n",
    "result3 = pd.merge(left, right, on='key', how='outer')\n",
    "print('全外连接:')\n",
    "print(result3)\n",
    "\n",
    "# 左连接\n",
    "result4 = pd.merge(left, right, on='key', how='left')\n",
    "print('左连接:')\n",
    "print(result4)\n",
    "\n",
    "# 索引合并\n",
    "left3 = pd.DataFrame({'A': ['A0', 'A1', 'A2'], 'B': ['B0', 'B1', 'B2']}, index=['a', 'b', 'c'])\n",
    "right3 = pd.DataFrame({'C': ['C0', 'C1', 'C2'], 'D': ['D0', 'D1', 'D2']}, index=['a', 'b', 'c'])\n",
    "result5 = pd.merge(left3, right3, left_index=True, right_index=True, how='outer')\n",
    "print('索引合并:')\n",
    "print(result5)"
   ]
  },
  {
   "cell_type": "markdown",
   "id": "38f67480",
   "metadata": {},
   "source": [
    "---\n",
    "## 4.2.3 根据索引合并\n",
    "### 概念\n",
    "根据索引合并是指根据行索引或列索引将多个对象合并成一个对象。\n",
    "\n",
    "### 语法格式\n",
    "```python\n",
    "df1.join(df2, on=None, how='left', lsuffix='', rsuffix='', sort=False)\n",
    "```\n",
    "- other：要合并的对象\n",
    "- on：合并的索引\n",
    "- how：合并方式，'left'、'right'、'outer'、'inner'\n",
    "\n",
    "---"
   ]
  },
  {
   "cell_type": "code",
   "execution_count": 10,
   "id": "e84104f3",
   "metadata": {},
   "outputs": [
    {
     "name": "stdout",
     "output_type": "stream",
     "text": [
      "没有重叠列，左连接:\n",
      "    A   B   C   D\n",
      "a  A0  B0  C0  D0\n",
      "b  A1  B1  C1  D1\n",
      "c  A2  B2  C2  D2\n",
      "有重叠列，按key左连接:\n",
      "    A   B key   C   D\n",
      "0  A0  B0  K0  C0  D0\n",
      "1  A1  B1  K1  C1  D1\n",
      "2  A2  B2  K2  C2  D2\n"
     ]
    }
   ],
   "source": [
    "# 根据索引合并示例\n",
    "left = pd.DataFrame({'A': ['A0', 'A1', 'A2'], 'B': ['B0', 'B1', 'B2']}, index=['a', 'b', 'c'])\n",
    "right = pd.DataFrame({'C': ['C0', 'C1', 'C2'], 'D': ['D0', 'D1', 'D2']}, index=['a', 'b', 'c'])\n",
    "\n",
    "# 没有重叠列\n",
    "result1 = left.join(right)\n",
    "print('没有重叠列，左连接:')\n",
    "print(result1)\n",
    "\n",
    "# 有重叠列\n",
    "left2 = pd.DataFrame({'A': ['A0', 'A1', 'A2'], 'B': ['B0', 'B1', 'B2'], 'key': ['K0', 'K1', 'K2']})\n",
    "right2 = pd.DataFrame({'C': ['C0', 'C1', 'C2'], 'D': ['D0', 'D1', 'D2'], 'key': ['K0', 'K1', 'K2']})\n",
    "result2 = left2.join(right2.set_index('key'), on='key')\n",
    "print('有重叠列，按key左连接:')\n",
    "print(result2)"
   ]
  },
  {
   "cell_type": "markdown",
   "id": "aae36018",
   "metadata": {},
   "source": [
    "---\n",
    "## 4.2.4 合并重叠数据\n",
    "### 概念\n",
    "如果一个DataFrame对象有缺失数据，可以用另一个DataFrame对象的数据进行填充。\n",
    "\n",
    "### 语法格式\n",
    "```python\n",
    "df1.combine_first(df2)\n",
    "```\n",
    "- other：用于填充缺失值的DataFrame对象\n",
    "\n",
    "---"
   ]
  },
  {
   "cell_type": "code",
   "execution_count": 11,
   "id": "c044a9a0",
   "metadata": {},
   "outputs": [
    {
     "name": "stdout",
     "output_type": "stream",
     "text": [
      "合并重叠数据结果:\n",
      "  key    A    B\n",
      "0  K0  NaN  NaN\n",
      "1  K1   A0   B1\n",
      "2  K2   A1   D1\n",
      "3  K3   A2   B3\n"
     ]
    }
   ],
   "source": [
    "# 合并重叠数据示例\n",
    "left = pd.DataFrame({'A': [np.nan, 'A0', 'A1', 'A2'], 'B': [np.nan, 'B1', np.nan, 'B3'], 'key': ['K0', 'K1', 'K2', 'K3']})\n",
    "right = pd.DataFrame({'A': ['C0', 'C1', 'C2'], 'B': ['D0', 'D1', 'D2'], 'key': ['K1', 'K2', 'K3']})\n",
    "right = right.set_index('key')\n",
    "left = left.set_index('key')\n",
    "result = left.combine_first(right)\n",
    "print('合并重叠数据结果:')\n",
    "print(result.reset_index())"
   ]
  },
  {
   "cell_type": "markdown",
   "id": "5aa4350b",
   "metadata": {},
   "source": [
    "# 4.3 数据重塑\n",
    "本节内容：\n",
    "- 重塑分层索引（stack/unstack）\n",
    "- 轴向旋转（pivot）\n",
    "---"
   ]
  },
  {
   "cell_type": "markdown",
   "id": "32d87dbc",
   "metadata": {},
   "source": [
    "## 4.3.1 重塑分层索引\n",
    "### 概念\n",
    "pandas通过stack()和unstack()方法实现分层索引的重塑。\n",
    "- stack()：将列“旋转”为行，生成分层索引的Series\n",
    "- unstack()：将行“旋转”为列，生成DataFrame\n",
    "\n",
    "### stack()方法\n",
    "```python\n",
    "df.stack(level=-1, dropna=True)\n",
    "```\n",
    "- level：操作的层级索引，0为外层，-1为内层\n",
    "- dropna：是否过滤缺失值\n",
    "\n",
    "### unstack()方法\n",
    "```python\n",
    "df.unstack(level=-1, fill_value=None)\n",
    "```\n",
    "- level：操作的层级索引\n",
    "- fill_value：缺失值填充\n",
    "---"
   ]
  },
  {
   "cell_type": "code",
   "execution_count": 12,
   "id": "54b4dbf7",
   "metadata": {},
   "outputs": [
    {
     "name": "stdout",
     "output_type": "stream",
     "text": [
      "原始DataFrame:\n",
      "    A   B\n",
      "0  A0  B0\n",
      "1  A1  B1\n",
      "2  A2  B2\n",
      "stack后结果:\n",
      "0  A    A0\n",
      "   B    B0\n",
      "1  A    A1\n",
      "   B    B1\n",
      "2  A    A2\n",
      "   B    B2\n",
      "dtype: object\n",
      "unstack后结果:\n",
      "    A   B\n",
      "0  A0  B0\n",
      "1  A1  B1\n",
      "2  A2  B2\n",
      "多层索引DataFrame:\n",
      "         A教室  B教室\n",
      "性别   楼层          \n",
      "男生人数 一楼   26   26\n",
      "     二楼   22   20\n",
      "女生人数 一楼   30   24\n",
      "     二楼   25   20\n",
      "对内层索引stack:\n",
      "性别    楼层     \n",
      "男生人数  一楼  A教室    26\n",
      "          B教室    26\n",
      "      二楼  A教室    22\n",
      "          B教室    20\n",
      "女生人数  一楼  A教室    30\n",
      "          B教室    24\n",
      "      二楼  A教室    25\n",
      "          B教室    20\n",
      "dtype: int64\n",
      "对外层索引stack:\n",
      "性别    楼层     \n",
      "男生人数  一楼  A教室    26\n",
      "          B教室    26\n",
      "      二楼  A教室    22\n",
      "          B教室    20\n",
      "女生人数  一楼  A教室    30\n",
      "          B教室    24\n",
      "      二楼  A教室    25\n",
      "          B教室    20\n",
      "dtype: int64\n"
     ]
    }
   ],
   "source": [
    "# stack/unstack 示例\n",
    "import pandas as pd\n",
    "import numpy as np\n",
    "\n",
    "df = pd.DataFrame({'A': ['A0', 'A1', 'A2'], 'B': ['B0', 'B1', 'B2']})\n",
    "print('原始DataFrame:')\n",
    "print(df)\n",
    "\n",
    "# stack方法：列变为行\n",
    "stacked = df.stack()\n",
    "print('stack后结果:')\n",
    "print(stacked)\n",
    "\n",
    "# unstack方法：行变为列\n",
    "unstacked = stacked.unstack()\n",
    "print('unstack后结果:')\n",
    "print(unstacked)\n",
    "\n",
    "# 多层索引重塑\n",
    "arrays = [['男生人数', '男生人数', '女生人数', '女生人数'], ['一楼', '二楼', '一楼', '二楼']]\n",
    "index = pd.MultiIndex.from_arrays(arrays, names=('性别', '楼层'))\n",
    "data = pd.DataFrame({'A教室': [26, 22, 30, 25], 'B教室': [26, 20, 24, 20]}, index=index)\n",
    "print('多层索引DataFrame:')\n",
    "print(data)\n",
    "\n",
    "# 对内层索引stack\n",
    "stack_inner = data.stack()\n",
    "print('对内层索引stack:')\n",
    "print(stack_inner)\n",
    "\n",
    "# 对外层索引stack\n",
    "stack_outer = data.stack(level=0)\n",
    "print('对外层索引stack:')\n",
    "print(stack_outer)"
   ]
  },
  {
   "cell_type": "markdown",
   "id": "4997bfbb",
   "metadata": {},
   "source": [
    "---\n",
    "## 4.3.2 轴向旋转\n",
    "### 概念\n",
    "通过pivot()方法实现轴向旋转，可将长表变为宽表，便于比较和分析。\n",
    "\n",
    "### 语法格式\n",
    "```python\n",
    "df.pivot(index=None, columns=None, values=None)\n",
    "```\n",
    "- index：新对象的行索引\n",
    "- columns：新对象的列索引\n",
    "- values：填充新对象的值\n",
    "---"
   ]
  },
  {
   "cell_type": "code",
   "execution_count": 13,
   "id": "154cf075",
   "metadata": {},
   "outputs": [
    {
     "name": "stdout",
     "output_type": "stream",
     "text": [
      "原始长表:\n",
      "         出售日期     商品名称  价格(元)\n",
      "0  2017年5月25日   荣耀9青春版    999\n",
      "1  2017年5月25日     小米6x   1399\n",
      "2  2017年5月25日  OPPO A1   1399\n",
      "3  2017年6月18日   荣耀9青春版    800\n",
      "4  2017年6月18日     小米6x   1200\n",
      "5  2017年6月18日  OPPO A1   1250\n",
      "轴向旋转后的宽表:\n",
      "商品名称        OPPO A1  小米6x  荣耀9青春版\n",
      "出售日期                             \n",
      "2017年5月25日     1399  1399     999\n",
      "2017年6月18日     1250  1200     800\n"
     ]
    }
   ],
   "source": [
    "# pivot 示例\n",
    "import pandas as pd\n",
    "\n",
    "data = pd.DataFrame({\n",
    "    '出售日期': ['2017年5月25日', '2017年5月25日', '2017年5月25日', '2017年6月18日', '2017年6月18日', '2017年6月18日'],\n",
    "    '商品名称': ['荣耀9青春版', '小米6x', 'OPPO A1', '荣耀9青春版', '小米6x', 'OPPO A1'],\n",
    "    '价格(元)': [999, 1399, 1399, 800, 1200, 1250]\n",
    "})\n",
    "print('原始长表:')\n",
    "print(data)\n",
    "\n",
    "pivoted = data.pivot(index='出售日期', columns='商品名称', values='价格(元)')\n",
    "print('轴向旋转后的宽表:')\n",
    "print(pivoted)"
   ]
  }
 ],
 "metadata": {
  "kernelspec": {
   "display_name": "myenv",
   "language": "python",
   "name": "python3"
  },
  "language_info": {
   "codemirror_mode": {
    "name": "ipython",
    "version": 3
   },
   "file_extension": ".py",
   "mimetype": "text/x-python",
   "name": "python",
   "nbconvert_exporter": "python",
   "pygments_lexer": "ipython3",
   "version": "3.13.5"
  }
 },
 "nbformat": 4,
 "nbformat_minor": 5
}
