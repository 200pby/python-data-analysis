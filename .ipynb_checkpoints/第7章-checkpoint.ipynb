{
 "cells": [
  {
   "cell_type": "markdown",
   "id": "d90ad166",
   "metadata": {},
   "source": [
    "## 7.2\t时间序列的基本操作"
   ]
  },
  {
   "cell_type": "markdown",
   "id": "7fd78c0c",
   "metadata": {},
   "source": [
    "### 7.2.1\t创建带时间戳的时间序列"
   ]
  },
  {
   "cell_type": "code",
   "execution_count": 1,
   "id": "0808bba6",
   "metadata": {},
   "outputs": [
    {
     "data": {
      "text/plain": [
       "DatetimeIndex(['2023-01-10', '2023-01-15', '2023-01-18'], dtype='datetime64[ns]', freq=None)"
      ]
     },
     "execution_count": 1,
     "metadata": {},
     "output_type": "execute_result"
    }
   ],
   "source": [
    "import pandas as pd\n",
    "# 创建DatetimeIndex类的对象\n",
    "date_index = pd.to_datetime(['20230110', '20230115', '20230118'])\n",
    "date_index"
   ]
  },
  {
   "cell_type": "code",
   "execution_count": 2,
   "id": "909bbde8",
   "metadata": {},
   "outputs": [
    {
     "data": {
      "text/plain": [
       "2023-01-10    11\n",
       "2023-01-15    22\n",
       "2023-01-18    33\n",
       "dtype: int64"
      ]
     },
     "execution_count": 2,
     "metadata": {},
     "output_type": "execute_result"
    }
   ],
   "source": [
    "# 创建Series类的对象并指定索引\n",
    "date_ser = pd.Series([11, 22, 33], index=date_index)\n",
    "date_ser"
   ]
  },
  {
   "cell_type": "code",
   "execution_count": 3,
   "id": "fb8c686d",
   "metadata": {},
   "outputs": [
    {
     "data": {
      "text/plain": [
       "2023-01-10    11\n",
       "2023-01-15    22\n",
       "2023-01-18    33\n",
       "dtype: int64"
      ]
     },
     "execution_count": 3,
     "metadata": {},
     "output_type": "execute_result"
    }
   ],
   "source": [
    "from datetime import datetime\n",
    "import pandas as pd\n",
    "date_list = [datetime(2023, 1, 10), datetime(2023, 1, 15), datetime(2023, 1, 18)]\n",
    "# 创建Series类的对象，并指定该对象的索引是包含日期的列表\n",
    "time_ser = pd.Series([11, 22, 33], index=date_list)\n",
    "time_ser"
   ]
  },
  {
   "cell_type": "code",
   "execution_count": 4,
   "id": "0f68efe1",
   "metadata": {},
   "outputs": [
    {
     "data": {
      "text/html": [
       "<div>\n",
       "<style scoped>\n",
       "    .dataframe tbody tr th:only-of-type {\n",
       "        vertical-align: middle;\n",
       "    }\n",
       "\n",
       "    .dataframe tbody tr th {\n",
       "        vertical-align: top;\n",
       "    }\n",
       "\n",
       "    .dataframe thead th {\n",
       "        text-align: right;\n",
       "    }\n",
       "</style>\n",
       "<table border=\"1\" class=\"dataframe\">\n",
       "  <thead>\n",
       "    <tr style=\"text-align: right;\">\n",
       "      <th></th>\n",
       "      <th>0</th>\n",
       "      <th>1</th>\n",
       "      <th>2</th>\n",
       "    </tr>\n",
       "  </thead>\n",
       "  <tbody>\n",
       "    <tr>\n",
       "      <th>2023-01-23</th>\n",
       "      <td>11</td>\n",
       "      <td>22</td>\n",
       "      <td>33</td>\n",
       "    </tr>\n",
       "    <tr>\n",
       "      <th>2023-02-15</th>\n",
       "      <td>44</td>\n",
       "      <td>55</td>\n",
       "      <td>66</td>\n",
       "    </tr>\n",
       "    <tr>\n",
       "      <th>2023-05-22</th>\n",
       "      <td>77</td>\n",
       "      <td>88</td>\n",
       "      <td>99</td>\n",
       "    </tr>\n",
       "    <tr>\n",
       "      <th>2023-03-30</th>\n",
       "      <td>12</td>\n",
       "      <td>23</td>\n",
       "      <td>34</td>\n",
       "    </tr>\n",
       "  </tbody>\n",
       "</table>\n",
       "</div>"
      ],
      "text/plain": [
       "             0   1   2\n",
       "2023-01-23  11  22  33\n",
       "2023-02-15  44  55  66\n",
       "2023-05-22  77  88  99\n",
       "2023-03-30  12  23  34"
      ]
     },
     "execution_count": 4,
     "metadata": {},
     "output_type": "execute_result"
    }
   ],
   "source": [
    "data_demo = [[11, 22, 33], [44, 55, 66], [77, 88, 99], [12, 23, 34]]\n",
    "date_list = [datetime(2023, 1, 23), datetime(2023, 2, 15),\n",
    "             datetime(2023, 5, 22), datetime(2023, 3, 30)]\n",
    "# 创建DataFrame类的对象，并指定索引是包含日期的列表\n",
    "time_df = pd.DataFrame(data_demo, index=date_list)\n",
    "time_df"
   ]
  },
  {
   "cell_type": "markdown",
   "id": "8c9a0cd4",
   "metadata": {},
   "source": [
    "### 7.2.2\t获取时间序列子集"
   ]
  },
  {
   "cell_type": "code",
   "execution_count": 6,
   "id": "08f87720",
   "metadata": {},
   "outputs": [
    {
     "data": {
      "text/plain": [
       "2020-05-30    0\n",
       "2022-02-01    1\n",
       "2020-06-01    2\n",
       "2021-04-01    3\n",
       "2022-06-01    4\n",
       "2023-01-23    5\n",
       "dtype: int64"
      ]
     },
     "execution_count": 6,
     "metadata": {},
     "output_type": "execute_result"
    }
   ],
   "source": [
    "import pandas as pd\n",
    "import numpy as np\n",
    "date_list = ['2020/05/30', '2022/02/01', '2020.6.1', '2021.4.1', '2022.6.1', '2023.1.23']\n",
    "# 根据日期字符串生成DatetimeIndex类的对象\n",
    "date_index = pd.to_datetime(date_list,format='mixed')\n",
    "# 创建Series类的对象，并指定索引是DatetimeIndex\n",
    "date_ser = pd.Series(np.arange(6), index=date_index)\n",
    "date_ser"
   ]
  },
  {
   "cell_type": "code",
   "execution_count": 7,
   "id": "4b13c2b3",
   "metadata": {},
   "outputs": [
    {
     "name": "stderr",
     "output_type": "stream",
     "text": [
      "C:\\Users\\pby\\AppData\\Local\\Temp\\ipykernel_26700\\2027373327.py:2: FutureWarning: Series.__getitem__ treating keys as positions is deprecated. In a future version, integer keys will always be treated as labels (consistent with DataFrame behavior). To access a value by position, use `ser.iloc[pos]`\n",
      "  date_ser[3]\n"
     ]
    },
    {
     "data": {
      "text/plain": [
       "np.int64(3)"
      ]
     },
     "execution_count": 7,
     "metadata": {},
     "output_type": "execute_result"
    }
   ],
   "source": [
    "# 通过位置索引获取时间序列的数据\n",
    "date_ser[3]"
   ]
  },
  {
   "cell_type": "code",
   "execution_count": 8,
   "id": "e5a1b06c",
   "metadata": {},
   "outputs": [
    {
     "data": {
      "text/plain": [
       "np.int64(2)"
      ]
     },
     "execution_count": 8,
     "metadata": {},
     "output_type": "execute_result"
    }
   ],
   "source": [
    "from datetime import datetime\n",
    "# 通过datetime对象获取时间序列的数据\n",
    "date_time = datetime(2020, 6, 1)\n",
    "date_ser[date_time]"
   ]
  },
  {
   "cell_type": "code",
   "execution_count": 9,
   "id": "c862a669",
   "metadata": {},
   "outputs": [
    {
     "data": {
      "text/plain": [
       "np.int64(0)"
      ]
     },
     "execution_count": 9,
     "metadata": {},
     "output_type": "execute_result"
    }
   ],
   "source": [
    "date_ser['20200530']"
   ]
  },
  {
   "cell_type": "code",
   "execution_count": 10,
   "id": "891e7c5b",
   "metadata": {},
   "outputs": [
    {
     "data": {
      "text/plain": [
       "np.int64(0)"
      ]
     },
     "execution_count": 10,
     "metadata": {},
     "output_type": "execute_result"
    }
   ],
   "source": [
    "date_ser['2020-05-30']"
   ]
  },
  {
   "cell_type": "code",
   "execution_count": 11,
   "id": "b994b463",
   "metadata": {},
   "outputs": [
    {
     "data": {
      "text/plain": [
       "np.int64(0)"
      ]
     },
     "execution_count": 11,
     "metadata": {},
     "output_type": "execute_result"
    }
   ],
   "source": [
    "date_ser['2020/05/30']"
   ]
  },
  {
   "cell_type": "code",
   "execution_count": 12,
   "id": "4a7cfddd",
   "metadata": {},
   "outputs": [
    {
     "data": {
      "text/plain": [
       "np.int64(0)"
      ]
     },
     "execution_count": 12,
     "metadata": {},
     "output_type": "execute_result"
    }
   ],
   "source": [
    "date_ser['5/30/2020']"
   ]
  },
  {
   "cell_type": "code",
   "execution_count": 13,
   "id": "f6e6f7f0",
   "metadata": {},
   "outputs": [
    {
     "data": {
      "text/plain": [
       "2020-05-30    0\n",
       "2020-06-01    2\n",
       "dtype: int64"
      ]
     },
     "execution_count": 13,
     "metadata": {},
     "output_type": "execute_result"
    }
   ],
   "source": [
    "date_ser['2020']    # 获取2020年的所有数据 "
   ]
  },
  {
   "cell_type": "code",
   "execution_count": 14,
   "id": "138c3ebe",
   "metadata": {},
   "outputs": [
    {
     "data": {
      "text/plain": [
       "2022-02-01    1\n",
       "2022-06-01    4\n",
       "2023-01-23    5\n",
       "dtype: int64"
      ]
     },
     "execution_count": 14,
     "metadata": {},
     "output_type": "execute_result"
    }
   ],
   "source": [
    "# 截取2022-1-1之后的数据\n",
    "sorted_ser = date_ser.sort_index()\n",
    "sorted_ser.truncate(before='2022-1-1')"
   ]
  },
  {
   "cell_type": "code",
   "execution_count": 15,
   "id": "787262d7",
   "metadata": {},
   "outputs": [
    {
     "data": {
      "text/plain": [
       "2020-05-30    0\n",
       "2020-06-01    2\n",
       "dtype: int64"
      ]
     },
     "execution_count": 15,
     "metadata": {},
     "output_type": "execute_result"
    }
   ],
   "source": [
    "# 截取2020年6月1日之前的数据\n",
    "sorted_ser.truncate(after='2020-6-1')"
   ]
  },
  {
   "cell_type": "markdown",
   "id": "fc38295a",
   "metadata": {},
   "source": [
    "## 7.3\t固定频率的时间序列"
   ]
  },
  {
   "cell_type": "markdown",
   "id": "023e6506",
   "metadata": {},
   "source": [
    "### 7.3.1\t创建固定频率的时间序列"
   ]
  },
  {
   "cell_type": "code",
   "execution_count": 16,
   "id": "00b1b99a",
   "metadata": {},
   "outputs": [
    {
     "data": {
      "text/plain": [
       "DatetimeIndex(['2023-01-01', '2023-01-02', '2023-01-03', '2023-01-04',\n",
       "               '2023-01-05', '2023-01-06', '2023-01-07', '2023-01-08',\n",
       "               '2023-01-09', '2023-01-10'],\n",
       "              dtype='datetime64[ns]', freq='D')"
      ]
     },
     "execution_count": 16,
     "metadata": {},
     "output_type": "execute_result"
    }
   ],
   "source": [
    "import pandas as pd\n",
    "# 创建DatetimeIndex类的对象，指定起始日期与终止日期\n",
    "date_ran = pd.date_range('2023/01/01', '2023/01/10')\n",
    "date_ran"
   ]
  },
  {
   "cell_type": "code",
   "execution_count": 17,
   "id": "66af9c49",
   "metadata": {},
   "outputs": [
    {
     "data": {
      "text/plain": [
       "DatetimeIndex(['2023-01-01', '2023-01-02', '2023-01-03', '2023-01-04',\n",
       "               '2023-01-05'],\n",
       "              dtype='datetime64[ns]', freq='D')"
      ]
     },
     "execution_count": 17,
     "metadata": {},
     "output_type": "execute_result"
    }
   ],
   "source": [
    "import pandas as pd\n",
    "# 创建DatetimeIndex类的对象，指定起始日期和个数\n",
    "date_ran = pd.date_range(start='2023/01/01', periods=5)\n",
    "date_ran"
   ]
  },
  {
   "cell_type": "code",
   "execution_count": 18,
   "id": "93b87615",
   "metadata": {},
   "outputs": [
    {
     "data": {
      "text/plain": [
       "DatetimeIndex(['2023-01-06', '2023-01-07', '2023-01-08', '2023-01-09',\n",
       "               '2023-01-10'],\n",
       "              dtype='datetime64[ns]', freq='D')"
      ]
     },
     "execution_count": 18,
     "metadata": {},
     "output_type": "execute_result"
    }
   ],
   "source": [
    "# 创建DatetimeIndex类的对象，指定终止日期和个数\n",
    "date_ran = pd.date_range(end='2023/01/10', periods=5)\n",
    "date_ran"
   ]
  },
  {
   "cell_type": "code",
   "execution_count": 19,
   "id": "7a362ee1",
   "metadata": {},
   "outputs": [
    {
     "data": {
      "text/plain": [
       "DatetimeIndex(['2023-01-01', '2023-01-06', '2023-01-11', '2023-01-16',\n",
       "               '2023-01-21'],\n",
       "              dtype='datetime64[ns]', freq='5D')"
      ]
     },
     "execution_count": 19,
     "metadata": {},
     "output_type": "execute_result"
    }
   ],
   "source": [
    "dates_index = pd.date_range(start='2023-01-01', periods=5, freq='5D') \n",
    "dates_index"
   ]
  },
  {
   "cell_type": "code",
   "execution_count": 20,
   "id": "331c41d6",
   "metadata": {},
   "outputs": [
    {
     "data": {
      "text/plain": [
       "DatetimeIndex(['2023-01-01 12:30:11', '2023-01-06 12:30:11',\n",
       "               '2023-01-11 12:30:11', '2023-01-16 12:30:11',\n",
       "               '2023-01-21 12:30:11'],\n",
       "              dtype='datetime64[ns]', freq='5D')"
      ]
     },
     "execution_count": 20,
     "metadata": {},
     "output_type": "execute_result"
    }
   ],
   "source": [
    "dates_index = pd.date_range(start='2023-01-01 12:30:11', periods=5, freq='5D')\n",
    "dates_index"
   ]
  },
  {
   "cell_type": "code",
   "execution_count": 21,
   "id": "9e6bc35f",
   "metadata": {
    "scrolled": true
   },
   "outputs": [
    {
     "data": {
      "text/plain": [
       "DatetimeIndex(['2023-01-01 12:30:11+08:00', '2023-01-02 12:30:11+08:00',\n",
       "               '2023-01-03 12:30:11+08:00', '2023-01-04 12:30:11+08:00',\n",
       "               '2023-01-05 12:30:11+08:00'],\n",
       "              dtype='datetime64[ns, Asia/Hong_Kong]', freq='D')"
      ]
     },
     "execution_count": 21,
     "metadata": {},
     "output_type": "execute_result"
    }
   ],
   "source": [
    "# 创建DatetimeIndex类的对象，指定时区\n",
    "pd.date_range(start='2023/1/1 12:30:11', periods=5, tz='Asia/Hong_Kong')"
   ]
  },
  {
   "cell_type": "code",
   "execution_count": 22,
   "id": "beaaccd9",
   "metadata": {},
   "outputs": [
    {
     "data": {
      "text/plain": [
       "DatetimeIndex(['2023-01-01 00:00:00+08:00', '2023-01-02 00:00:00+08:00',\n",
       "               '2023-01-03 00:00:00+08:00', '2023-01-04 00:00:00+08:00',\n",
       "               '2023-01-05 00:00:00+08:00'],\n",
       "              dtype='datetime64[ns, Asia/Hong_Kong]', freq='D')"
      ]
     },
     "execution_count": 22,
     "metadata": {},
     "output_type": "execute_result"
    }
   ],
   "source": [
    "# 创建DatetimeIndex类的对象，标准化时间\n",
    "pd.date_range(start='2023/1/1 12:30:11', periods=5, tz='Asia/Hong_Kong', normalize=True)"
   ]
  },
  {
   "cell_type": "code",
   "execution_count": 23,
   "id": "6492ac81",
   "metadata": {},
   "outputs": [
    {
     "data": {
      "text/plain": [
       "2023-01-01 12:30:11    12\n",
       "2023-01-06 12:30:11    56\n",
       "2023-01-11 12:30:11    89\n",
       "2023-01-16 12:30:11    99\n",
       "2023-01-21 12:30:11    31\n",
       "Freq: 5D, dtype: int64"
      ]
     },
     "execution_count": 23,
     "metadata": {},
     "output_type": "execute_result"
    }
   ],
   "source": [
    "date_ser = pd.Series([12, 56, 89, 99, 31], index=dates_index)\n",
    "date_ser"
   ]
  },
  {
   "cell_type": "markdown",
   "id": "200c4e25",
   "metadata": {},
   "source": [
    "### 7.3.2\t时间序列的频率与偏移量"
   ]
  },
  {
   "cell_type": "code",
   "execution_count": 24,
   "id": "16ab1189",
   "metadata": {},
   "outputs": [
    {
     "data": {
      "text/plain": [
       "<DateOffset: days=14, hours=10>"
      ]
     },
     "execution_count": 24,
     "metadata": {},
     "output_type": "execute_result"
    }
   ],
   "source": [
    "from pandas.tseries.offsets import *\n",
    "DateOffset(days=14, hours=10)"
   ]
  },
  {
   "cell_type": "code",
   "execution_count": null,
   "id": "f2c6f6a9",
   "metadata": {},
   "outputs": [
    {
     "data": {
      "text/plain": [
       "Timedelta('14 days 10:00:00')"
      ]
     },
     "execution_count": 25,
     "metadata": {},
     "output_type": "execute_result"
    }
   ],
   "source": [
    "Week(2) + Hour(10)"
   ]
  },
  {
   "cell_type": "code",
   "execution_count": 26,
   "id": "92945261",
   "metadata": {},
   "outputs": [
    {
     "data": {
      "text/plain": [
       "DatetimeIndex(['2023-01-01 00:00:00', '2023-01-15 10:00:00',\n",
       "               '2023-01-29 20:00:00'],\n",
       "              dtype='datetime64[ns]', freq='346h')"
      ]
     },
     "execution_count": 26,
     "metadata": {},
     "output_type": "execute_result"
    }
   ],
   "source": [
    "# 生成日期偏移量\n",
    "date_offset  = Week(2) + Hour(10)\n",
    "pd.date_range('2023/1/1', '2023/1/31', freq=date_offset)"
   ]
  },
  {
   "cell_type": "markdown",
   "id": "461c5c67",
   "metadata": {},
   "source": [
    "### 7.3.3\t时间序列的移动"
   ]
  },
  {
   "cell_type": "code",
   "execution_count": 27,
   "id": "72bdecf8",
   "metadata": {},
   "outputs": [
    {
     "data": {
      "text/plain": [
       "2023-01-01    1\n",
       "2023-01-02    2\n",
       "2023-01-03    3\n",
       "2023-01-04    4\n",
       "2023-01-05    5\n",
       "Freq: D, dtype: int64"
      ]
     },
     "execution_count": 27,
     "metadata": {},
     "output_type": "execute_result"
    }
   ],
   "source": [
    "import numpy as np\n",
    "import pandas as pd\n",
    "date_index = pd.date_range('2023/01/01', periods=5)\n",
    "time_ser = pd.Series(np.arange(5) + 1, index=date_index)\n",
    "time_ser"
   ]
  },
  {
   "cell_type": "code",
   "execution_count": 28,
   "id": "72253f11",
   "metadata": {},
   "outputs": [
    {
     "data": {
      "text/plain": [
       "2023-01-01    NaN\n",
       "2023-01-02    1.0\n",
       "2023-01-03    2.0\n",
       "2023-01-04    3.0\n",
       "2023-01-05    4.0\n",
       "Freq: D, dtype: float64"
      ]
     },
     "execution_count": 28,
     "metadata": {},
     "output_type": "execute_result"
    }
   ],
   "source": [
    "# 向后移动一次\n",
    "time_ser.shift(1)"
   ]
  },
  {
   "cell_type": "code",
   "execution_count": 29,
   "id": "03a1c294",
   "metadata": {},
   "outputs": [
    {
     "data": {
      "text/plain": [
       "2023-01-01    2.0\n",
       "2023-01-02    3.0\n",
       "2023-01-03    4.0\n",
       "2023-01-04    5.0\n",
       "2023-01-05    NaN\n",
       "Freq: D, dtype: float64"
      ]
     },
     "execution_count": 29,
     "metadata": {},
     "output_type": "execute_result"
    }
   ],
   "source": [
    "# 向前移动一次\n",
    "time_ser.shift(-1)"
   ]
  },
  {
   "cell_type": "markdown",
   "id": "5a668aaf",
   "metadata": {},
   "source": [
    "## 7.4\t时间周期与计算"
   ]
  },
  {
   "cell_type": "markdown",
   "id": "fdad2f87",
   "metadata": {},
   "source": [
    "### 7.4.1\t创建带时期索引的对象"
   ]
  },
  {
   "cell_type": "code",
   "execution_count": 30,
   "id": "f98aa777",
   "metadata": {},
   "outputs": [
    {
     "data": {
      "text/plain": [
       "Period('2023', 'Y-DEC')"
      ]
     },
     "execution_count": 30,
     "metadata": {},
     "output_type": "execute_result"
    }
   ],
   "source": [
    "# 创建Period对象，表示的是从2023-01-01到2023-12-31之间的时期\n",
    "pd.Period(2023)"
   ]
  },
  {
   "cell_type": "code",
   "execution_count": 31,
   "id": "116d44f1",
   "metadata": {},
   "outputs": [
    {
     "data": {
      "text/plain": [
       "Period('2023-06', 'M')"
      ]
     },
     "execution_count": 31,
     "metadata": {},
     "output_type": "execute_result"
    }
   ],
   "source": [
    "# 创建Period对象，表示的是从2023-06-01到2023-06-30之间的整月时间\n",
    "period = pd.Period('2023/6')\n",
    "period"
   ]
  },
  {
   "cell_type": "code",
   "execution_count": 32,
   "id": "0444fbbb",
   "metadata": {},
   "outputs": [
    {
     "data": {
      "text/plain": [
       "Period('2023-07', 'M')"
      ]
     },
     "execution_count": 32,
     "metadata": {},
     "output_type": "execute_result"
    }
   ],
   "source": [
    "period + 1   # Period对象加上一个整数"
   ]
  },
  {
   "cell_type": "code",
   "execution_count": 33,
   "id": "073f33c2",
   "metadata": {},
   "outputs": [
    {
     "data": {
      "text/plain": [
       "Period('2023-01', 'M')"
      ]
     },
     "execution_count": 33,
     "metadata": {},
     "output_type": "execute_result"
    }
   ],
   "source": [
    "period - 5    # Period对象减去一个整数"
   ]
  },
  {
   "cell_type": "code",
   "execution_count": 34,
   "id": "9f1219fa",
   "metadata": {},
   "outputs": [
    {
     "data": {
      "text/plain": [
       "<5 * MonthEnds>"
      ]
     },
     "execution_count": 34,
     "metadata": {},
     "output_type": "execute_result"
    }
   ],
   "source": [
    "# 创建一个与period频率相同的Period对象\n",
    "other_period = pd.Period(202301, freq='M' )\n",
    "period - other_period"
   ]
  },
  {
   "cell_type": "code",
   "execution_count": 35,
   "id": "92b45389",
   "metadata": {},
   "outputs": [
    {
     "data": {
      "text/plain": [
       "PeriodIndex(['2023-01', '2023-02', '2023-03', '2023-04', '2023-05'], dtype='period[M]')"
      ]
     },
     "execution_count": 35,
     "metadata": {},
     "output_type": "execute_result"
    }
   ],
   "source": [
    "period_index = pd.period_range('2023.1.8', '2023.5.31', freq='M')\n",
    "period_index"
   ]
  },
  {
   "cell_type": "code",
   "execution_count": 36,
   "id": "949018c7",
   "metadata": {},
   "outputs": [
    {
     "name": "stderr",
     "output_type": "stream",
     "text": [
      "C:\\Users\\pby\\AppData\\Local\\Temp\\ipykernel_26700\\1360805433.py:2: FutureWarning: 'A-DEC' is deprecated and will be removed in a future version, please use 'Y-DEC' instead.\n",
      "  pd.PeriodIndex(str_list, freq='A-DEC')\n"
     ]
    },
    {
     "data": {
      "text/plain": [
       "PeriodIndex(['2021', '2022', '2023'], dtype='period[Y-DEC]')"
      ]
     },
     "execution_count": 36,
     "metadata": {},
     "output_type": "execute_result"
    }
   ],
   "source": [
    "str_list = ['2021', '2022', '2023']\n",
    "pd.PeriodIndex(str_list, freq='A-DEC')"
   ]
  },
  {
   "cell_type": "code",
   "execution_count": 37,
   "id": "57da15bc",
   "metadata": {},
   "outputs": [
    {
     "data": {
      "text/plain": [
       "2023-01    0\n",
       "2023-02    1\n",
       "2023-03    2\n",
       "2023-04    3\n",
       "2023-05    4\n",
       "Freq: M, dtype: int64"
      ]
     },
     "execution_count": 37,
     "metadata": {},
     "output_type": "execute_result"
    }
   ],
   "source": [
    "period_ser = pd.Series(np.arange(5), period_index)\n",
    "period_ser"
   ]
  },
  {
   "cell_type": "markdown",
   "id": "809d8b32",
   "metadata": {},
   "source": [
    "### 7.4.2\t时期的频率转换"
   ]
  },
  {
   "cell_type": "code",
   "execution_count": 38,
   "id": "41e11ec1",
   "metadata": {},
   "outputs": [
    {
     "name": "stderr",
     "output_type": "stream",
     "text": [
      "C:\\Users\\pby\\AppData\\Local\\Temp\\ipykernel_26700\\2005660432.py:2: FutureWarning: 'A-DEC' is deprecated and will be removed in a future version, please use 'Y-DEC' instead.\n",
      "  period = pd.Period('2022', freq='A-DEC')\n"
     ]
    },
    {
     "data": {
      "text/plain": [
       "Period('2022-01', 'M')"
      ]
     },
     "execution_count": 38,
     "metadata": {},
     "output_type": "execute_result"
    }
   ],
   "source": [
    "# 创建时期对象\n",
    "period = pd.Period('2022', freq='A-DEC')\n",
    "# 转换时期频率\n",
    "period.asfreq('M', how='start')"
   ]
  },
  {
   "cell_type": "code",
   "execution_count": 39,
   "id": "d5ede4b3",
   "metadata": {},
   "outputs": [
    {
     "data": {
      "text/plain": [
       "Period('2022-12', 'M')"
      ]
     },
     "execution_count": 39,
     "metadata": {},
     "output_type": "execute_result"
    }
   ],
   "source": [
    "period.asfreq('M', how='end')"
   ]
  },
  {
   "cell_type": "markdown",
   "id": "547b64ff",
   "metadata": {},
   "source": [
    "## 7.5\t重采样"
   ]
  },
  {
   "cell_type": "markdown",
   "id": "eb4548cb",
   "metadata": {},
   "source": [
    "### 7.5.1\t重采样方法"
   ]
  },
  {
   "cell_type": "code",
   "execution_count": 40,
   "id": "e26fabc8",
   "metadata": {},
   "outputs": [
    {
     "data": {
      "text/plain": [
       "2023-01-08     0\n",
       "2023-01-09     1\n",
       "2023-01-10     2\n",
       "2023-01-11     3\n",
       "2023-01-12     4\n",
       "2023-01-13     5\n",
       "2023-01-14     6\n",
       "2023-01-15     7\n",
       "2023-01-16     8\n",
       "2023-01-17     9\n",
       "2023-01-18    10\n",
       "2023-01-19    11\n",
       "2023-01-20    12\n",
       "2023-01-21    13\n",
       "2023-01-22    14\n",
       "2023-01-23    15\n",
       "2023-01-24    16\n",
       "2023-01-25    17\n",
       "2023-01-26    18\n",
       "2023-01-27    19\n",
       "2023-01-28    20\n",
       "2023-01-29    21\n",
       "2023-01-30    22\n",
       "2023-01-31    23\n",
       "2023-02-01    24\n",
       "2023-02-02    25\n",
       "2023-02-03    26\n",
       "2023-02-04    27\n",
       "2023-02-05    28\n",
       "2023-02-06    29\n",
       "Freq: D, dtype: int64"
      ]
     },
     "execution_count": 40,
     "metadata": {},
     "output_type": "execute_result"
    }
   ],
   "source": [
    "date_index = pd.date_range('2023.1.8', periods=30)\n",
    "time_ser = pd.Series(np.arange(30), index=date_index)\n",
    "time_ser"
   ]
  },
  {
   "cell_type": "code",
   "execution_count": 41,
   "id": "489857c9",
   "metadata": {},
   "outputs": [
    {
     "data": {
      "text/plain": [
       "2023-01-09     0.5\n",
       "2023-01-16     5.0\n",
       "2023-01-23    12.0\n",
       "2023-01-30    19.0\n",
       "2023-02-06    26.0\n",
       "Freq: W-MON, dtype: float64"
      ]
     },
     "execution_count": 41,
     "metadata": {},
     "output_type": "execute_result"
    }
   ],
   "source": [
    "time_ser.resample('W-MON').mean()"
   ]
  },
  {
   "cell_type": "code",
   "execution_count": 42,
   "id": "1fb1ae80",
   "metadata": {},
   "outputs": [
    {
     "data": {
      "text/plain": [
       "2023-01-09     0.0\n",
       "2023-01-16     4.0\n",
       "2023-01-23    11.0\n",
       "2023-01-30    18.0\n",
       "2023-02-06    25.0\n",
       "2023-02-13    29.0\n",
       "Freq: W-MON, dtype: float64"
      ]
     },
     "execution_count": 42,
     "metadata": {},
     "output_type": "execute_result"
    }
   ],
   "source": [
    "time_ser.resample('W-MON', closed='left').mean()"
   ]
  },
  {
   "cell_type": "markdown",
   "id": "55365f12",
   "metadata": {},
   "source": [
    "### 7.5.2\t降采样"
   ]
  },
  {
   "cell_type": "code",
   "execution_count": 43,
   "id": "fe739a8b",
   "metadata": {},
   "outputs": [
    {
     "data": {
      "text/plain": [
       "2023-02-01    0.680260\n",
       "2023-02-02    0.367132\n",
       "2023-02-03    0.062015\n",
       "2023-02-04    0.847992\n",
       "2023-02-05    0.267935\n",
       "2023-02-06    0.167065\n",
       "2023-02-07    0.133177\n",
       "2023-02-08    0.678573\n",
       "2023-02-09    0.278783\n",
       "2023-02-10    0.111588\n",
       "2023-02-11    0.452691\n",
       "2023-02-12    0.199308\n",
       "2023-02-13    0.209057\n",
       "2023-02-14    0.253439\n",
       "2023-02-15    0.009528\n",
       "2023-02-16    0.638848\n",
       "2023-02-17    0.981636\n",
       "2023-02-18    0.869705\n",
       "2023-02-19    0.475827\n",
       "2023-02-20    0.974124\n",
       "2023-02-21    0.120708\n",
       "2023-02-22    0.043096\n",
       "2023-02-23    0.323920\n",
       "2023-02-24    0.857485\n",
       "2023-02-25    0.243000\n",
       "2023-02-26    0.366967\n",
       "2023-02-27    0.545854\n",
       "2023-02-28    0.708534\n",
       "2023-03-01    0.399050\n",
       "2023-03-02    0.037636\n",
       "Freq: D, dtype: float64"
      ]
     },
     "execution_count": 43,
     "metadata": {},
     "output_type": "execute_result"
    }
   ],
   "source": [
    "date_index = pd.date_range('2023/02/01', periods=30)\n",
    "shares_data = np.random.rand(30)\n",
    "time_ser = pd.Series(shares_data, index=date_index)\n",
    "time_ser"
   ]
  },
  {
   "cell_type": "code",
   "execution_count": 44,
   "id": "9a3cd7ac",
   "metadata": {
    "scrolled": true
   },
   "outputs": [
    {
     "data": {
      "text/html": [
       "<div>\n",
       "<style scoped>\n",
       "    .dataframe tbody tr th:only-of-type {\n",
       "        vertical-align: middle;\n",
       "    }\n",
       "\n",
       "    .dataframe tbody tr th {\n",
       "        vertical-align: top;\n",
       "    }\n",
       "\n",
       "    .dataframe thead th {\n",
       "        text-align: right;\n",
       "    }\n",
       "</style>\n",
       "<table border=\"1\" class=\"dataframe\">\n",
       "  <thead>\n",
       "    <tr style=\"text-align: right;\">\n",
       "      <th></th>\n",
       "      <th>open</th>\n",
       "      <th>high</th>\n",
       "      <th>low</th>\n",
       "      <th>close</th>\n",
       "    </tr>\n",
       "  </thead>\n",
       "  <tbody>\n",
       "    <tr>\n",
       "      <th>2023-02-01</th>\n",
       "      <td>0.680260</td>\n",
       "      <td>0.847992</td>\n",
       "      <td>0.062015</td>\n",
       "      <td>0.133177</td>\n",
       "    </tr>\n",
       "    <tr>\n",
       "      <th>2023-02-08</th>\n",
       "      <td>0.678573</td>\n",
       "      <td>0.678573</td>\n",
       "      <td>0.111588</td>\n",
       "      <td>0.253439</td>\n",
       "    </tr>\n",
       "    <tr>\n",
       "      <th>2023-02-15</th>\n",
       "      <td>0.009528</td>\n",
       "      <td>0.981636</td>\n",
       "      <td>0.009528</td>\n",
       "      <td>0.120708</td>\n",
       "    </tr>\n",
       "    <tr>\n",
       "      <th>2023-02-22</th>\n",
       "      <td>0.043096</td>\n",
       "      <td>0.857485</td>\n",
       "      <td>0.043096</td>\n",
       "      <td>0.708534</td>\n",
       "    </tr>\n",
       "    <tr>\n",
       "      <th>2023-03-01</th>\n",
       "      <td>0.399050</td>\n",
       "      <td>0.399050</td>\n",
       "      <td>0.037636</td>\n",
       "      <td>0.037636</td>\n",
       "    </tr>\n",
       "  </tbody>\n",
       "</table>\n",
       "</div>"
      ],
      "text/plain": [
       "                open      high       low     close\n",
       "2023-02-01  0.680260  0.847992  0.062015  0.133177\n",
       "2023-02-08  0.678573  0.678573  0.111588  0.253439\n",
       "2023-02-15  0.009528  0.981636  0.009528  0.120708\n",
       "2023-02-22  0.043096  0.857485  0.043096  0.708534\n",
       "2023-03-01  0.399050  0.399050  0.037636  0.037636"
      ]
     },
     "execution_count": 44,
     "metadata": {},
     "output_type": "execute_result"
    }
   ],
   "source": [
    "time_ser.resample('7D').ohlc()  # OHLC重采样"
   ]
  },
  {
   "cell_type": "code",
   "execution_count": 45,
   "id": "cf8dd48c",
   "metadata": {},
   "outputs": [
    {
     "data": {
      "text/plain": [
       "5    0.445067\n",
       "6    0.288741\n",
       "7    0.491149\n",
       "8    0.418471\n",
       "9    0.422768\n",
       "dtype: float64"
      ]
     },
     "execution_count": 45,
     "metadata": {},
     "output_type": "execute_result"
    }
   ],
   "source": [
    "# 通过groupby技术实现降采样\n",
    "time_ser.groupby(lambda x: x.week).mean()"
   ]
  },
  {
   "cell_type": "markdown",
   "id": "a91e8060",
   "metadata": {},
   "source": [
    "### 7.5.3\t升采样"
   ]
  },
  {
   "cell_type": "code",
   "execution_count": 46,
   "id": "fe4a0b15",
   "metadata": {},
   "outputs": [
    {
     "data": {
      "text/html": [
       "<div>\n",
       "<style scoped>\n",
       "    .dataframe tbody tr th:only-of-type {\n",
       "        vertical-align: middle;\n",
       "    }\n",
       "\n",
       "    .dataframe tbody tr th {\n",
       "        vertical-align: top;\n",
       "    }\n",
       "\n",
       "    .dataframe thead th {\n",
       "        text-align: right;\n",
       "    }\n",
       "</style>\n",
       "<table border=\"1\" class=\"dataframe\">\n",
       "  <thead>\n",
       "    <tr style=\"text-align: right;\">\n",
       "      <th></th>\n",
       "      <th>A产品</th>\n",
       "      <th>B产品</th>\n",
       "      <th>C产品</th>\n",
       "    </tr>\n",
       "  </thead>\n",
       "  <tbody>\n",
       "    <tr>\n",
       "      <th>2022-06-12</th>\n",
       "      <td>101</td>\n",
       "      <td>210</td>\n",
       "      <td>150</td>\n",
       "    </tr>\n",
       "    <tr>\n",
       "      <th>2022-06-19</th>\n",
       "      <td>330</td>\n",
       "      <td>460</td>\n",
       "      <td>580</td>\n",
       "    </tr>\n",
       "  </tbody>\n",
       "</table>\n",
       "</div>"
      ],
      "text/plain": [
       "            A产品  B产品  C产品\n",
       "2022-06-12  101  210  150\n",
       "2022-06-19  330  460  580"
      ]
     },
     "execution_count": 46,
     "metadata": {},
     "output_type": "execute_result"
    }
   ],
   "source": [
    "data_demo = np.array([['101', '210', '150'], ['330', '460', '580']])\n",
    "date_index = pd.date_range('2022/06/10', periods=2, freq='W-SUN')\n",
    "time_df = pd.DataFrame(data_demo, index=date_index, \n",
    "columns=['A产品', 'B产品', 'C产品'])\n",
    "time_df"
   ]
  },
  {
   "cell_type": "code",
   "execution_count": 47,
   "id": "bb8b6202",
   "metadata": {},
   "outputs": [
    {
     "data": {
      "text/html": [
       "<div>\n",
       "<style scoped>\n",
       "    .dataframe tbody tr th:only-of-type {\n",
       "        vertical-align: middle;\n",
       "    }\n",
       "\n",
       "    .dataframe tbody tr th {\n",
       "        vertical-align: top;\n",
       "    }\n",
       "\n",
       "    .dataframe thead th {\n",
       "        text-align: right;\n",
       "    }\n",
       "</style>\n",
       "<table border=\"1\" class=\"dataframe\">\n",
       "  <thead>\n",
       "    <tr style=\"text-align: right;\">\n",
       "      <th></th>\n",
       "      <th>A产品</th>\n",
       "      <th>B产品</th>\n",
       "      <th>C产品</th>\n",
       "    </tr>\n",
       "  </thead>\n",
       "  <tbody>\n",
       "    <tr>\n",
       "      <th>2022-06-12</th>\n",
       "      <td>101</td>\n",
       "      <td>210</td>\n",
       "      <td>150</td>\n",
       "    </tr>\n",
       "    <tr>\n",
       "      <th>2022-06-13</th>\n",
       "      <td>NaN</td>\n",
       "      <td>NaN</td>\n",
       "      <td>NaN</td>\n",
       "    </tr>\n",
       "    <tr>\n",
       "      <th>2022-06-14</th>\n",
       "      <td>NaN</td>\n",
       "      <td>NaN</td>\n",
       "      <td>NaN</td>\n",
       "    </tr>\n",
       "    <tr>\n",
       "      <th>2022-06-15</th>\n",
       "      <td>NaN</td>\n",
       "      <td>NaN</td>\n",
       "      <td>NaN</td>\n",
       "    </tr>\n",
       "    <tr>\n",
       "      <th>2022-06-16</th>\n",
       "      <td>NaN</td>\n",
       "      <td>NaN</td>\n",
       "      <td>NaN</td>\n",
       "    </tr>\n",
       "    <tr>\n",
       "      <th>2022-06-17</th>\n",
       "      <td>NaN</td>\n",
       "      <td>NaN</td>\n",
       "      <td>NaN</td>\n",
       "    </tr>\n",
       "    <tr>\n",
       "      <th>2022-06-18</th>\n",
       "      <td>NaN</td>\n",
       "      <td>NaN</td>\n",
       "      <td>NaN</td>\n",
       "    </tr>\n",
       "    <tr>\n",
       "      <th>2022-06-19</th>\n",
       "      <td>330</td>\n",
       "      <td>460</td>\n",
       "      <td>580</td>\n",
       "    </tr>\n",
       "  </tbody>\n",
       "</table>\n",
       "</div>"
      ],
      "text/plain": [
       "            A产品  B产品  C产品\n",
       "2022-06-12  101  210  150\n",
       "2022-06-13  NaN  NaN  NaN\n",
       "2022-06-14  NaN  NaN  NaN\n",
       "2022-06-15  NaN  NaN  NaN\n",
       "2022-06-16  NaN  NaN  NaN\n",
       "2022-06-17  NaN  NaN  NaN\n",
       "2022-06-18  NaN  NaN  NaN\n",
       "2022-06-19  330  460  580"
      ]
     },
     "execution_count": 47,
     "metadata": {},
     "output_type": "execute_result"
    }
   ],
   "source": [
    "time_df.resample('D').asfreq()"
   ]
  },
  {
   "cell_type": "code",
   "execution_count": 48,
   "id": "443e652f",
   "metadata": {},
   "outputs": [
    {
     "data": {
      "text/html": [
       "<div>\n",
       "<style scoped>\n",
       "    .dataframe tbody tr th:only-of-type {\n",
       "        vertical-align: middle;\n",
       "    }\n",
       "\n",
       "    .dataframe tbody tr th {\n",
       "        vertical-align: top;\n",
       "    }\n",
       "\n",
       "    .dataframe thead th {\n",
       "        text-align: right;\n",
       "    }\n",
       "</style>\n",
       "<table border=\"1\" class=\"dataframe\">\n",
       "  <thead>\n",
       "    <tr style=\"text-align: right;\">\n",
       "      <th></th>\n",
       "      <th>A产品</th>\n",
       "      <th>B产品</th>\n",
       "      <th>C产品</th>\n",
       "    </tr>\n",
       "  </thead>\n",
       "  <tbody>\n",
       "    <tr>\n",
       "      <th>2022-06-12</th>\n",
       "      <td>101</td>\n",
       "      <td>210</td>\n",
       "      <td>150</td>\n",
       "    </tr>\n",
       "    <tr>\n",
       "      <th>2022-06-13</th>\n",
       "      <td>101</td>\n",
       "      <td>210</td>\n",
       "      <td>150</td>\n",
       "    </tr>\n",
       "    <tr>\n",
       "      <th>2022-06-14</th>\n",
       "      <td>101</td>\n",
       "      <td>210</td>\n",
       "      <td>150</td>\n",
       "    </tr>\n",
       "    <tr>\n",
       "      <th>2022-06-15</th>\n",
       "      <td>101</td>\n",
       "      <td>210</td>\n",
       "      <td>150</td>\n",
       "    </tr>\n",
       "    <tr>\n",
       "      <th>2022-06-16</th>\n",
       "      <td>101</td>\n",
       "      <td>210</td>\n",
       "      <td>150</td>\n",
       "    </tr>\n",
       "    <tr>\n",
       "      <th>2022-06-17</th>\n",
       "      <td>101</td>\n",
       "      <td>210</td>\n",
       "      <td>150</td>\n",
       "    </tr>\n",
       "    <tr>\n",
       "      <th>2022-06-18</th>\n",
       "      <td>101</td>\n",
       "      <td>210</td>\n",
       "      <td>150</td>\n",
       "    </tr>\n",
       "    <tr>\n",
       "      <th>2022-06-19</th>\n",
       "      <td>330</td>\n",
       "      <td>460</td>\n",
       "      <td>580</td>\n",
       "    </tr>\n",
       "  </tbody>\n",
       "</table>\n",
       "</div>"
      ],
      "text/plain": [
       "            A产品  B产品  C产品\n",
       "2022-06-12  101  210  150\n",
       "2022-06-13  101  210  150\n",
       "2022-06-14  101  210  150\n",
       "2022-06-15  101  210  150\n",
       "2022-06-16  101  210  150\n",
       "2022-06-17  101  210  150\n",
       "2022-06-18  101  210  150\n",
       "2022-06-19  330  460  580"
      ]
     },
     "execution_count": 48,
     "metadata": {},
     "output_type": "execute_result"
    }
   ],
   "source": [
    "time_df.resample('D').ffill()"
   ]
  },
  {
   "cell_type": "markdown",
   "id": "c55c1780",
   "metadata": {},
   "source": [
    "## 7.6\t滑动窗口"
   ]
  },
  {
   "cell_type": "code",
   "execution_count": 49,
   "id": "9172c4b4",
   "metadata": {
    "scrolled": true
   },
   "outputs": [
    {
     "data": {
      "text/plain": [
       "2022-01-01    61\n",
       "2022-01-02    60\n",
       "2022-01-03    73\n",
       "2022-01-04    51\n",
       "2022-01-05    98\n",
       "Freq: D, dtype: int32"
      ]
     },
     "execution_count": 49,
     "metadata": {},
     "output_type": "execute_result"
    }
   ],
   "source": [
    "import numpy as np\n",
    "import pandas as pd\n",
    "year_data = np.random.randint(low=50, high=100, size=(365,))\n",
    "date_index = pd.date_range('2022-01-01', '2022-12-31', freq='D')\n",
    "ser = pd.Series(year_data, date_index)\n",
    "ser.head()"
   ]
  },
  {
   "cell_type": "code",
   "execution_count": 50,
   "id": "53fa2f55",
   "metadata": {},
   "outputs": [
    {
     "data": {
      "text/plain": [
       "Rolling [window=10,center=False,axis=0,method=single]"
      ]
     },
     "execution_count": 50,
     "metadata": {},
     "output_type": "execute_result"
    }
   ],
   "source": [
    "roll_window = ser.rolling(window=10)\n",
    "roll_window"
   ]
  },
  {
   "cell_type": "code",
   "execution_count": 51,
   "id": "0f2de8c1",
   "metadata": {
    "scrolled": false
   },
   "outputs": [
    {
     "data": {
      "text/plain": [
       "2022-01-01     NaN\n",
       "2022-01-02     NaN\n",
       "2022-01-03     NaN\n",
       "2022-01-04     NaN\n",
       "2022-01-05     NaN\n",
       "              ... \n",
       "2022-12-27    72.6\n",
       "2022-12-28    70.7\n",
       "2022-12-29    75.2\n",
       "2022-12-30    74.7\n",
       "2022-12-31    70.8\n",
       "Freq: D, Length: 365, dtype: float64"
      ]
     },
     "execution_count": 51,
     "metadata": {},
     "output_type": "execute_result"
    }
   ],
   "source": [
    "roll_window.mean()"
   ]
  },
  {
   "cell_type": "code",
   "execution_count": 52,
   "id": "d582a64c",
   "metadata": {},
   "outputs": [
    {
     "data": {
      "text/plain": [
       "<Axes: >"
      ]
     },
     "execution_count": 52,
     "metadata": {},
     "output_type": "execute_result"
    },
    {
     "data": {
      "image/png": "[encoded data removed]",
      "text/plain": [
       "<Figure size 640x480 with 1 Axes>"
      ]
     },
     "metadata": {},
     "output_type": "display_data"
    }
   ],
   "source": [
    "import matplotlib.pyplot as plt\n",
    "# 直接通过Series类的对象调用plot()方法绘制折线图\n",
    "ser.plot(style='y--')\n",
    "ser_window = ser.rolling(window=10).mean()\n",
    "# 直接通过Series类的对象调用plot()方法绘制折线图\n",
    "ser_window.plot(style='b')"
   ]
  },
  {
   "cell_type": "markdown",
   "id": "8485d8a4",
   "metadata": {},
   "source": [
    "## 7.7\t案例：某城市报警记录分析"
   ]
  },
  {
   "cell_type": "markdown",
   "id": "7b51d170",
   "metadata": {},
   "source": [
    "### 7.7.1 案例需求"
   ]
  },
  {
   "cell_type": "code",
   "execution_count": 53,
   "id": "024c3260",
   "metadata": {},
   "outputs": [],
   "source": [
    "# （1）统计2022年3月到5月哪种类别的报警记录最多，哪种类别的报警记录最少\n",
    "# （2）画图分析2022年1~10月每周报警记录的数量\n",
    "# （3）画图分析2022年1~10月周一至周日交通事故和非交通事故的报警记录"
   ]
  },
  {
   "cell_type": "markdown",
   "id": "602770eb",
   "metadata": {},
   "source": [
    "### 7.7.2 数据准备"
   ]
  },
  {
   "cell_type": "code",
   "execution_count": 55,
   "id": "ab65e984",
   "metadata": {},
   "outputs": [
    {
     "data": {
      "text/html": [
       "<div>\n",
       "<style scoped>\n",
       "    .dataframe tbody tr th:only-of-type {\n",
       "        vertical-align: middle;\n",
       "    }\n",
       "\n",
       "    .dataframe tbody tr th {\n",
       "        vertical-align: top;\n",
       "    }\n",
       "\n",
       "    .dataframe thead th {\n",
       "        text-align: right;\n",
       "    }\n",
       "</style>\n",
       "<table border=\"1\" class=\"dataframe\">\n",
       "  <thead>\n",
       "    <tr style=\"text-align: right;\">\n",
       "      <th></th>\n",
       "      <th>OFFENSE_TYPE_ID</th>\n",
       "      <th>OFFENSE_CATEGORY_ID</th>\n",
       "      <th>REPORTED_DATE</th>\n",
       "      <th>GEO_LON</th>\n",
       "      <th>GEO_LAT</th>\n",
       "      <th>IS_CRIME</th>\n",
       "      <th>IS_TRAFFIC</th>\n",
       "    </tr>\n",
       "  </thead>\n",
       "  <tbody>\n",
       "    <tr>\n",
       "      <th>0</th>\n",
       "      <td>traffic-accident</td>\n",
       "      <td>traffic-accident</td>\n",
       "      <td>2022-05-22 14:41:00</td>\n",
       "      <td>-104.673812</td>\n",
       "      <td>39.849292</td>\n",
       "      <td>0</td>\n",
       "      <td>1</td>\n",
       "    </tr>\n",
       "    <tr>\n",
       "      <th>1</th>\n",
       "      <td>threats-to-injure</td>\n",
       "      <td>public-disorder</td>\n",
       "      <td>2022-05-17 20:35:00</td>\n",
       "      <td>-105.020053</td>\n",
       "      <td>39.694351</td>\n",
       "      <td>1</td>\n",
       "      <td>0</td>\n",
       "    </tr>\n",
       "    <tr>\n",
       "      <th>2</th>\n",
       "      <td>burglary-residence-by-force</td>\n",
       "      <td>burglary</td>\n",
       "      <td>2022-06-07 07:47:00</td>\n",
       "      <td>-104.981677</td>\n",
       "      <td>39.763597</td>\n",
       "      <td>1</td>\n",
       "      <td>0</td>\n",
       "    </tr>\n",
       "    <tr>\n",
       "      <th>3</th>\n",
       "      <td>theft-other</td>\n",
       "      <td>larceny</td>\n",
       "      <td>2022-05-26 16:46:00</td>\n",
       "      <td>-104.839119</td>\n",
       "      <td>39.769694</td>\n",
       "      <td>1</td>\n",
       "      <td>0</td>\n",
       "    </tr>\n",
       "    <tr>\n",
       "      <th>4</th>\n",
       "      <td>criminal-trespassing</td>\n",
       "      <td>all-other-crimes</td>\n",
       "      <td>2022-06-07 07:42:00</td>\n",
       "      <td>-104.673812</td>\n",
       "      <td>39.849292</td>\n",
       "      <td>1</td>\n",
       "      <td>0</td>\n",
       "    </tr>\n",
       "  </tbody>\n",
       "</table>\n",
       "</div>"
      ],
      "text/plain": [
       "               OFFENSE_TYPE_ID OFFENSE_CATEGORY_ID       REPORTED_DATE  \\\n",
       "0             traffic-accident    traffic-accident 2022-05-22 14:41:00   \n",
       "1            threats-to-injure     public-disorder 2022-05-17 20:35:00   \n",
       "2  burglary-residence-by-force            burglary 2022-06-07 07:47:00   \n",
       "3                  theft-other             larceny 2022-05-26 16:46:00   \n",
       "4         criminal-trespassing    all-other-crimes 2022-06-07 07:42:00   \n",
       "\n",
       "      GEO_LON    GEO_LAT  IS_CRIME  IS_TRAFFIC  \n",
       "0 -104.673812  39.849292         0           1  \n",
       "1 -105.020053  39.694351         1           0  \n",
       "2 -104.981677  39.763597         1           0  \n",
       "3 -104.839119  39.769694         1           0  \n",
       "4 -104.673812  39.849292         1           0  "
      ]
     },
     "execution_count": 55,
     "metadata": {},
     "output_type": "execute_result"
    }
   ],
   "source": [
    "import pandas as pd\n",
    "alarm_record = pd.read_csv(r'C:\\Users\\pby\\Downloads\\Python数据分析与应用\\.ipynb_checkpoints\\alarm.csv', parse_dates=['REPORTED_DATE'])\n",
    "alarm_record.head()"
   ]
  },
  {
   "cell_type": "code",
   "execution_count": 56,
   "id": "010e55be",
   "metadata": {},
   "outputs": [
    {
     "name": "stdout",
     "output_type": "stream",
     "text": [
      "<class 'pandas.core.frame.DataFrame'>\n",
      "RangeIndex: 65617 entries, 0 to 65616\n",
      "Data columns (total 7 columns):\n",
      " #   Column               Non-Null Count  Dtype         \n",
      "---  ------               --------------  -----         \n",
      " 0   OFFENSE_TYPE_ID      65617 non-null  object        \n",
      " 1   OFFENSE_CATEGORY_ID  65617 non-null  object        \n",
      " 2   REPORTED_DATE        65617 non-null  datetime64[ns]\n",
      " 3   GEO_LON              65617 non-null  float64       \n",
      " 4   GEO_LAT              65617 non-null  float64       \n",
      " 5   IS_CRIME             65617 non-null  int64         \n",
      " 6   IS_TRAFFIC           65617 non-null  int64         \n",
      "dtypes: datetime64[ns](1), float64(2), int64(2), object(2)\n",
      "memory usage: 3.5+ MB\n"
     ]
    }
   ],
   "source": [
    "alarm_record.info()"
   ]
  },
  {
   "cell_type": "code",
   "execution_count": 57,
   "id": "e128eb73",
   "metadata": {},
   "outputs": [
    {
     "data": {
      "text/html": [
       "<div>\n",
       "<style scoped>\n",
       "    .dataframe tbody tr th:only-of-type {\n",
       "        vertical-align: middle;\n",
       "    }\n",
       "\n",
       "    .dataframe tbody tr th {\n",
       "        vertical-align: top;\n",
       "    }\n",
       "\n",
       "    .dataframe thead th {\n",
       "        text-align: right;\n",
       "    }\n",
       "</style>\n",
       "<table border=\"1\" class=\"dataframe\">\n",
       "  <thead>\n",
       "    <tr style=\"text-align: right;\">\n",
       "      <th></th>\n",
       "      <th>OFFENSE_TYPE_ID</th>\n",
       "      <th>OFFENSE_CATEGORY_ID</th>\n",
       "      <th>GEO_LON</th>\n",
       "      <th>GEO_LAT</th>\n",
       "      <th>IS_CRIME</th>\n",
       "      <th>IS_TRAFFIC</th>\n",
       "    </tr>\n",
       "    <tr>\n",
       "      <th>REPORTED_DATE</th>\n",
       "      <th></th>\n",
       "      <th></th>\n",
       "      <th></th>\n",
       "      <th></th>\n",
       "      <th></th>\n",
       "      <th></th>\n",
       "    </tr>\n",
       "  </thead>\n",
       "  <tbody>\n",
       "    <tr>\n",
       "      <th>2022-05-22 14:41:00</th>\n",
       "      <td>traffic-accident</td>\n",
       "      <td>traffic-accident</td>\n",
       "      <td>-104.673812</td>\n",
       "      <td>39.849292</td>\n",
       "      <td>0</td>\n",
       "      <td>1</td>\n",
       "    </tr>\n",
       "    <tr>\n",
       "      <th>2022-05-17 20:35:00</th>\n",
       "      <td>threats-to-injure</td>\n",
       "      <td>public-disorder</td>\n",
       "      <td>-105.020053</td>\n",
       "      <td>39.694351</td>\n",
       "      <td>1</td>\n",
       "      <td>0</td>\n",
       "    </tr>\n",
       "    <tr>\n",
       "      <th>2022-06-07 07:47:00</th>\n",
       "      <td>burglary-residence-by-force</td>\n",
       "      <td>burglary</td>\n",
       "      <td>-104.981677</td>\n",
       "      <td>39.763597</td>\n",
       "      <td>1</td>\n",
       "      <td>0</td>\n",
       "    </tr>\n",
       "    <tr>\n",
       "      <th>2022-05-26 16:46:00</th>\n",
       "      <td>theft-other</td>\n",
       "      <td>larceny</td>\n",
       "      <td>-104.839119</td>\n",
       "      <td>39.769694</td>\n",
       "      <td>1</td>\n",
       "      <td>0</td>\n",
       "    </tr>\n",
       "    <tr>\n",
       "      <th>2022-06-07 07:42:00</th>\n",
       "      <td>criminal-trespassing</td>\n",
       "      <td>all-other-crimes</td>\n",
       "      <td>-104.673812</td>\n",
       "      <td>39.849292</td>\n",
       "      <td>1</td>\n",
       "      <td>0</td>\n",
       "    </tr>\n",
       "  </tbody>\n",
       "</table>\n",
       "</div>"
      ],
      "text/plain": [
       "                                 OFFENSE_TYPE_ID OFFENSE_CATEGORY_ID  \\\n",
       "REPORTED_DATE                                                          \n",
       "2022-05-22 14:41:00             traffic-accident    traffic-accident   \n",
       "2022-05-17 20:35:00            threats-to-injure     public-disorder   \n",
       "2022-06-07 07:47:00  burglary-residence-by-force            burglary   \n",
       "2022-05-26 16:46:00                  theft-other             larceny   \n",
       "2022-06-07 07:42:00         criminal-trespassing    all-other-crimes   \n",
       "\n",
       "                        GEO_LON    GEO_LAT  IS_CRIME  IS_TRAFFIC  \n",
       "REPORTED_DATE                                                     \n",
       "2022-05-22 14:41:00 -104.673812  39.849292         0           1  \n",
       "2022-05-17 20:35:00 -105.020053  39.694351         1           0  \n",
       "2022-06-07 07:47:00 -104.981677  39.763597         1           0  \n",
       "2022-05-26 16:46:00 -104.839119  39.769694         1           0  \n",
       "2022-06-07 07:42:00 -104.673812  39.849292         1           0  "
      ]
     },
     "execution_count": 57,
     "metadata": {},
     "output_type": "execute_result"
    }
   ],
   "source": [
    "# 把REPORTED_DATE列的数据作为行的标签索引\n",
    "final_alarm_record = alarm_record.set_index('REPORTED_DATE')\n",
    "final_alarm_record.head()"
   ]
  },
  {
   "cell_type": "markdown",
   "id": "6f8ef23c",
   "metadata": {},
   "source": [
    "### 7.7.3 案例实现"
   ]
  },
  {
   "cell_type": "markdown",
   "id": "41ee5ace",
   "metadata": {},
   "source": [
    "#### 1.  统计2022年3月到5月哪种类别的报警记录最多，哪种类别的报警记录最少"
   ]
  },
  {
   "cell_type": "code",
   "execution_count": 60,
   "id": "f57f5dee",
   "metadata": {
    "scrolled": true
   },
   "outputs": [
    {
     "data": {
      "text/html": [
       "<div>\n",
       "<style scoped>\n",
       "    .dataframe tbody tr th:only-of-type {\n",
       "        vertical-align: middle;\n",
       "    }\n",
       "\n",
       "    .dataframe tbody tr th {\n",
       "        vertical-align: top;\n",
       "    }\n",
       "\n",
       "    .dataframe thead th {\n",
       "        text-align: right;\n",
       "    }\n",
       "</style>\n",
       "<table border=\"1\" class=\"dataframe\">\n",
       "  <thead>\n",
       "    <tr style=\"text-align: right;\">\n",
       "      <th></th>\n",
       "      <th>OFFENSE_TYPE_ID</th>\n",
       "      <th>OFFENSE_CATEGORY_ID</th>\n",
       "      <th>GEO_LON</th>\n",
       "      <th>GEO_LAT</th>\n",
       "      <th>IS_CRIME</th>\n",
       "      <th>IS_TRAFFIC</th>\n",
       "    </tr>\n",
       "    <tr>\n",
       "      <th>REPORTED_DATE</th>\n",
       "      <th></th>\n",
       "      <th></th>\n",
       "      <th></th>\n",
       "      <th></th>\n",
       "      <th></th>\n",
       "      <th></th>\n",
       "    </tr>\n",
       "  </thead>\n",
       "  <tbody>\n",
       "    <tr>\n",
       "      <th>2022-03-01 00:07:00</th>\n",
       "      <td>traf-other</td>\n",
       "      <td>all-other-crimes</td>\n",
       "      <td>-104.799964</td>\n",
       "      <td>39.798282</td>\n",
       "      <td>1</td>\n",
       "      <td>0</td>\n",
       "    </tr>\n",
       "    <tr>\n",
       "      <th>2022-03-01 00:07:00</th>\n",
       "      <td>assault-dv</td>\n",
       "      <td>other-crimes-against-persons</td>\n",
       "      <td>-104.889641</td>\n",
       "      <td>39.752364</td>\n",
       "      <td>1</td>\n",
       "      <td>0</td>\n",
       "    </tr>\n",
       "    <tr>\n",
       "      <th>2022-03-01 00:26:00</th>\n",
       "      <td>traffic-accident-hit-and-run</td>\n",
       "      <td>traffic-accident</td>\n",
       "      <td>-104.846448</td>\n",
       "      <td>39.779922</td>\n",
       "      <td>0</td>\n",
       "      <td>1</td>\n",
       "    </tr>\n",
       "    <tr>\n",
       "      <th>2022-03-01 00:30:00</th>\n",
       "      <td>criminal-mischief-other</td>\n",
       "      <td>public-disorder</td>\n",
       "      <td>-105.057143</td>\n",
       "      <td>39.654277</td>\n",
       "      <td>1</td>\n",
       "      <td>0</td>\n",
       "    </tr>\n",
       "    <tr>\n",
       "      <th>2022-03-01 00:42:00</th>\n",
       "      <td>obstructing-govt-operation</td>\n",
       "      <td>all-other-crimes</td>\n",
       "      <td>-105.039012</td>\n",
       "      <td>39.628846</td>\n",
       "      <td>1</td>\n",
       "      <td>0</td>\n",
       "    </tr>\n",
       "    <tr>\n",
       "      <th>...</th>\n",
       "      <td>...</td>\n",
       "      <td>...</td>\n",
       "      <td>...</td>\n",
       "      <td>...</td>\n",
       "      <td>...</td>\n",
       "      <td>...</td>\n",
       "    </tr>\n",
       "    <tr>\n",
       "      <th>2022-05-30 23:31:00</th>\n",
       "      <td>theft-items-from-vehicle</td>\n",
       "      <td>theft-from-motor-vehicle</td>\n",
       "      <td>-104.985757</td>\n",
       "      <td>39.745754</td>\n",
       "      <td>1</td>\n",
       "      <td>0</td>\n",
       "    </tr>\n",
       "    <tr>\n",
       "      <th>2022-05-30 23:51:00</th>\n",
       "      <td>violation-of-restraining-order</td>\n",
       "      <td>all-other-crimes</td>\n",
       "      <td>-104.987724</td>\n",
       "      <td>39.716363</td>\n",
       "      <td>1</td>\n",
       "      <td>0</td>\n",
       "    </tr>\n",
       "    <tr>\n",
       "      <th>2022-05-30 23:54:00</th>\n",
       "      <td>burglary-residence-by-force</td>\n",
       "      <td>burglary</td>\n",
       "      <td>-104.836452</td>\n",
       "      <td>39.776377</td>\n",
       "      <td>1</td>\n",
       "      <td>0</td>\n",
       "    </tr>\n",
       "    <tr>\n",
       "      <th>2022-05-30 23:55:00</th>\n",
       "      <td>theft-other</td>\n",
       "      <td>larceny</td>\n",
       "      <td>-104.976337</td>\n",
       "      <td>39.739873</td>\n",
       "      <td>1</td>\n",
       "      <td>0</td>\n",
       "    </tr>\n",
       "    <tr>\n",
       "      <th>2022-05-30 23:56:00</th>\n",
       "      <td>robbery-street</td>\n",
       "      <td>robbery</td>\n",
       "      <td>-104.968982</td>\n",
       "      <td>39.742015</td>\n",
       "      <td>1</td>\n",
       "      <td>0</td>\n",
       "    </tr>\n",
       "  </tbody>\n",
       "</table>\n",
       "<p>21491 rows × 6 columns</p>\n",
       "</div>"
      ],
      "text/plain": [
       "                                    OFFENSE_TYPE_ID  \\\n",
       "REPORTED_DATE                                         \n",
       "2022-03-01 00:07:00                      traf-other   \n",
       "2022-03-01 00:07:00                      assault-dv   \n",
       "2022-03-01 00:26:00    traffic-accident-hit-and-run   \n",
       "2022-03-01 00:30:00         criminal-mischief-other   \n",
       "2022-03-01 00:42:00      obstructing-govt-operation   \n",
       "...                                             ...   \n",
       "2022-05-30 23:31:00        theft-items-from-vehicle   \n",
       "2022-05-30 23:51:00  violation-of-restraining-order   \n",
       "2022-05-30 23:54:00     burglary-residence-by-force   \n",
       "2022-05-30 23:55:00                     theft-other   \n",
       "2022-05-30 23:56:00                  robbery-street   \n",
       "\n",
       "                              OFFENSE_CATEGORY_ID     GEO_LON    GEO_LAT  \\\n",
       "REPORTED_DATE                                                              \n",
       "2022-03-01 00:07:00              all-other-crimes -104.799964  39.798282   \n",
       "2022-03-01 00:07:00  other-crimes-against-persons -104.889641  39.752364   \n",
       "2022-03-01 00:26:00              traffic-accident -104.846448  39.779922   \n",
       "2022-03-01 00:30:00               public-disorder -105.057143  39.654277   \n",
       "2022-03-01 00:42:00              all-other-crimes -105.039012  39.628846   \n",
       "...                                           ...         ...        ...   \n",
       "2022-05-30 23:31:00      theft-from-motor-vehicle -104.985757  39.745754   \n",
       "2022-05-30 23:51:00              all-other-crimes -104.987724  39.716363   \n",
       "2022-05-30 23:54:00                      burglary -104.836452  39.776377   \n",
       "2022-05-30 23:55:00                       larceny -104.976337  39.739873   \n",
       "2022-05-30 23:56:00                       robbery -104.968982  39.742015   \n",
       "\n",
       "                     IS_CRIME  IS_TRAFFIC  \n",
       "REPORTED_DATE                              \n",
       "2022-03-01 00:07:00         1           0  \n",
       "2022-03-01 00:07:00         1           0  \n",
       "2022-03-01 00:26:00         0           1  \n",
       "2022-03-01 00:30:00         1           0  \n",
       "2022-03-01 00:42:00         1           0  \n",
       "...                       ...         ...  \n",
       "2022-05-30 23:31:00         1           0  \n",
       "2022-05-30 23:51:00         1           0  \n",
       "2022-05-30 23:54:00         1           0  \n",
       "2022-05-30 23:55:00         1           0  \n",
       "2022-05-30 23:56:00         1           0  \n",
       "\n",
       "[21491 rows x 6 columns]"
      ]
     },
     "execution_count": 60,
     "metadata": {},
     "output_type": "execute_result"
    }
   ],
   "source": [
    "# 查询2022年3月到5月的报警记录\n",
    "mask = (final_alarm_record.index >= '2022-03-01') & (final_alarm_record.index <= '2022-05-31')\n",
    "record_3_5 = final_alarm_record[mask].sort_index()\n",
    "record_3_5"
   ]
  },
  {
   "cell_type": "code",
   "execution_count": 61,
   "id": "64dcfa20",
   "metadata": {},
   "outputs": [
    {
     "data": {
      "text/html": [
       "<div>\n",
       "<style scoped>\n",
       "    .dataframe tbody tr th:only-of-type {\n",
       "        vertical-align: middle;\n",
       "    }\n",
       "\n",
       "    .dataframe tbody tr th {\n",
       "        vertical-align: top;\n",
       "    }\n",
       "\n",
       "    .dataframe thead th {\n",
       "        text-align: right;\n",
       "    }\n",
       "</style>\n",
       "<table border=\"1\" class=\"dataframe\">\n",
       "  <thead>\n",
       "    <tr style=\"text-align: right;\">\n",
       "      <th></th>\n",
       "      <th>OFFENSE_TYPE_ID</th>\n",
       "      <th>GEO_LON</th>\n",
       "      <th>GEO_LAT</th>\n",
       "      <th>IS_CRIME</th>\n",
       "      <th>IS_TRAFFIC</th>\n",
       "    </tr>\n",
       "    <tr>\n",
       "      <th>OFFENSE_CATEGORY_ID</th>\n",
       "      <th></th>\n",
       "      <th></th>\n",
       "      <th></th>\n",
       "      <th></th>\n",
       "      <th></th>\n",
       "    </tr>\n",
       "  </thead>\n",
       "  <tbody>\n",
       "    <tr>\n",
       "      <th>murder</th>\n",
       "      <td>15</td>\n",
       "      <td>15</td>\n",
       "      <td>15</td>\n",
       "      <td>15</td>\n",
       "      <td>15</td>\n",
       "    </tr>\n",
       "    <tr>\n",
       "      <th>arson</th>\n",
       "      <td>24</td>\n",
       "      <td>24</td>\n",
       "      <td>24</td>\n",
       "      <td>24</td>\n",
       "      <td>24</td>\n",
       "    </tr>\n",
       "    <tr>\n",
       "      <th>robbery</th>\n",
       "      <td>269</td>\n",
       "      <td>269</td>\n",
       "      <td>269</td>\n",
       "      <td>269</td>\n",
       "      <td>269</td>\n",
       "    </tr>\n",
       "    <tr>\n",
       "      <th>white-collar-crime</th>\n",
       "      <td>294</td>\n",
       "      <td>294</td>\n",
       "      <td>294</td>\n",
       "      <td>294</td>\n",
       "      <td>294</td>\n",
       "    </tr>\n",
       "    <tr>\n",
       "      <th>drug-alcohol</th>\n",
       "      <td>309</td>\n",
       "      <td>309</td>\n",
       "      <td>309</td>\n",
       "      <td>309</td>\n",
       "      <td>309</td>\n",
       "    </tr>\n",
       "    <tr>\n",
       "      <th>aggravated-assault</th>\n",
       "      <td>535</td>\n",
       "      <td>535</td>\n",
       "      <td>535</td>\n",
       "      <td>535</td>\n",
       "      <td>535</td>\n",
       "    </tr>\n",
       "    <tr>\n",
       "      <th>burglary</th>\n",
       "      <td>1032</td>\n",
       "      <td>1032</td>\n",
       "      <td>1032</td>\n",
       "      <td>1032</td>\n",
       "      <td>1032</td>\n",
       "    </tr>\n",
       "    <tr>\n",
       "      <th>auto-theft</th>\n",
       "      <td>1163</td>\n",
       "      <td>1163</td>\n",
       "      <td>1163</td>\n",
       "      <td>1163</td>\n",
       "      <td>1163</td>\n",
       "    </tr>\n",
       "    <tr>\n",
       "      <th>other-crimes-against-persons</th>\n",
       "      <td>1219</td>\n",
       "      <td>1219</td>\n",
       "      <td>1219</td>\n",
       "      <td>1219</td>\n",
       "      <td>1219</td>\n",
       "    </tr>\n",
       "    <tr>\n",
       "      <th>theft-from-motor-vehicle</th>\n",
       "      <td>1821</td>\n",
       "      <td>1821</td>\n",
       "      <td>1821</td>\n",
       "      <td>1821</td>\n",
       "      <td>1821</td>\n",
       "    </tr>\n",
       "    <tr>\n",
       "      <th>larceny</th>\n",
       "      <td>2030</td>\n",
       "      <td>2030</td>\n",
       "      <td>2030</td>\n",
       "      <td>2030</td>\n",
       "      <td>2030</td>\n",
       "    </tr>\n",
       "    <tr>\n",
       "      <th>public-disorder</th>\n",
       "      <td>2387</td>\n",
       "      <td>2387</td>\n",
       "      <td>2387</td>\n",
       "      <td>2387</td>\n",
       "      <td>2387</td>\n",
       "    </tr>\n",
       "    <tr>\n",
       "      <th>all-other-crimes</th>\n",
       "      <td>4551</td>\n",
       "      <td>4551</td>\n",
       "      <td>4551</td>\n",
       "      <td>4551</td>\n",
       "      <td>4551</td>\n",
       "    </tr>\n",
       "    <tr>\n",
       "      <th>traffic-accident</th>\n",
       "      <td>5842</td>\n",
       "      <td>5842</td>\n",
       "      <td>5842</td>\n",
       "      <td>5842</td>\n",
       "      <td>5842</td>\n",
       "    </tr>\n",
       "  </tbody>\n",
       "</table>\n",
       "</div>"
      ],
      "text/plain": [
       "                              OFFENSE_TYPE_ID  GEO_LON  GEO_LAT  IS_CRIME  \\\n",
       "OFFENSE_CATEGORY_ID                                                         \n",
       "murder                                     15       15       15        15   \n",
       "arson                                      24       24       24        24   \n",
       "robbery                                   269      269      269       269   \n",
       "white-collar-crime                        294      294      294       294   \n",
       "drug-alcohol                              309      309      309       309   \n",
       "aggravated-assault                        535      535      535       535   \n",
       "burglary                                 1032     1032     1032      1032   \n",
       "auto-theft                               1163     1163     1163      1163   \n",
       "other-crimes-against-persons             1219     1219     1219      1219   \n",
       "theft-from-motor-vehicle                 1821     1821     1821      1821   \n",
       "larceny                                  2030     2030     2030      2030   \n",
       "public-disorder                          2387     2387     2387      2387   \n",
       "all-other-crimes                         4551     4551     4551      4551   \n",
       "traffic-accident                         5842     5842     5842      5842   \n",
       "\n",
       "                              IS_TRAFFIC  \n",
       "OFFENSE_CATEGORY_ID                       \n",
       "murder                                15  \n",
       "arson                                 24  \n",
       "robbery                              269  \n",
       "white-collar-crime                   294  \n",
       "drug-alcohol                         309  \n",
       "aggravated-assault                   535  \n",
       "burglary                            1032  \n",
       "auto-theft                          1163  \n",
       "other-crimes-against-persons        1219  \n",
       "theft-from-motor-vehicle            1821  \n",
       "larceny                             2030  \n",
       "public-disorder                     2387  \n",
       "all-other-crimes                    4551  \n",
       "traffic-accident                    5842  "
      ]
     },
     "execution_count": 61,
     "metadata": {},
     "output_type": "execute_result"
    }
   ],
   "source": [
    "# 根据OFFENSE_CATEGORY_ID列分组统计数量，得到每种类别报警记录的数量\n",
    "result = record_3_5.groupby('OFFENSE_CATEGORY_ID').count()\n",
    "new_result = result.sort_values(by='OFFENSE_TYPE_ID')\n",
    "new_result"
   ]
  },
  {
   "cell_type": "code",
   "execution_count": 62,
   "id": "c6570e4f",
   "metadata": {},
   "outputs": [
    {
     "data": {
      "text/html": [
       "<div>\n",
       "<style scoped>\n",
       "    .dataframe tbody tr th:only-of-type {\n",
       "        vertical-align: middle;\n",
       "    }\n",
       "\n",
       "    .dataframe tbody tr th {\n",
       "        vertical-align: top;\n",
       "    }\n",
       "\n",
       "    .dataframe thead th {\n",
       "        text-align: right;\n",
       "    }\n",
       "</style>\n",
       "<table border=\"1\" class=\"dataframe\">\n",
       "  <thead>\n",
       "    <tr style=\"text-align: right;\">\n",
       "      <th></th>\n",
       "      <th>OFFENSE_TYPE_ID</th>\n",
       "      <th>GEO_LON</th>\n",
       "      <th>GEO_LAT</th>\n",
       "      <th>IS_CRIME</th>\n",
       "      <th>IS_TRAFFIC</th>\n",
       "    </tr>\n",
       "    <tr>\n",
       "      <th>OFFENSE_CATEGORY_ID</th>\n",
       "      <th></th>\n",
       "      <th></th>\n",
       "      <th></th>\n",
       "      <th></th>\n",
       "      <th></th>\n",
       "    </tr>\n",
       "  </thead>\n",
       "  <tbody>\n",
       "    <tr>\n",
       "      <th>murder</th>\n",
       "      <td>15</td>\n",
       "      <td>15</td>\n",
       "      <td>15</td>\n",
       "      <td>15</td>\n",
       "      <td>15</td>\n",
       "    </tr>\n",
       "  </tbody>\n",
       "</table>\n",
       "</div>"
      ],
      "text/plain": [
       "                     OFFENSE_TYPE_ID  GEO_LON  GEO_LAT  IS_CRIME  IS_TRAFFIC\n",
       "OFFENSE_CATEGORY_ID                                                         \n",
       "murder                            15       15       15        15          15"
      ]
     },
     "execution_count": 62,
     "metadata": {},
     "output_type": "execute_result"
    }
   ],
   "source": [
    "# 获取第一条报警记录\n",
    "new_result.iloc[0:1]"
   ]
  },
  {
   "cell_type": "code",
   "execution_count": 63,
   "id": "3b6c193d",
   "metadata": {
    "scrolled": true
   },
   "outputs": [
    {
     "data": {
      "text/html": [
       "<div>\n",
       "<style scoped>\n",
       "    .dataframe tbody tr th:only-of-type {\n",
       "        vertical-align: middle;\n",
       "    }\n",
       "\n",
       "    .dataframe tbody tr th {\n",
       "        vertical-align: top;\n",
       "    }\n",
       "\n",
       "    .dataframe thead th {\n",
       "        text-align: right;\n",
       "    }\n",
       "</style>\n",
       "<table border=\"1\" class=\"dataframe\">\n",
       "  <thead>\n",
       "    <tr style=\"text-align: right;\">\n",
       "      <th></th>\n",
       "      <th>OFFENSE_TYPE_ID</th>\n",
       "      <th>GEO_LON</th>\n",
       "      <th>GEO_LAT</th>\n",
       "      <th>IS_CRIME</th>\n",
       "      <th>IS_TRAFFIC</th>\n",
       "    </tr>\n",
       "    <tr>\n",
       "      <th>OFFENSE_CATEGORY_ID</th>\n",
       "      <th></th>\n",
       "      <th></th>\n",
       "      <th></th>\n",
       "      <th></th>\n",
       "      <th></th>\n",
       "    </tr>\n",
       "  </thead>\n",
       "  <tbody>\n",
       "    <tr>\n",
       "      <th>traffic-accident</th>\n",
       "      <td>5842</td>\n",
       "      <td>5842</td>\n",
       "      <td>5842</td>\n",
       "      <td>5842</td>\n",
       "      <td>5842</td>\n",
       "    </tr>\n",
       "  </tbody>\n",
       "</table>\n",
       "</div>"
      ],
      "text/plain": [
       "                     OFFENSE_TYPE_ID  GEO_LON  GEO_LAT  IS_CRIME  IS_TRAFFIC\n",
       "OFFENSE_CATEGORY_ID                                                         \n",
       "traffic-accident                5842     5842     5842      5842        5842"
      ]
     },
     "execution_count": 63,
     "metadata": {},
     "output_type": "execute_result"
    }
   ],
   "source": [
    "# 获取最后一条报警记录\n",
    "new_result.iloc[-1:-2:-1]"
   ]
  },
  {
   "cell_type": "markdown",
   "id": "e185b13b",
   "metadata": {},
   "source": [
    "#### 2.  画图分析2022 年1～10 月每周报警记录的数量"
   ]
  },
  {
   "cell_type": "code",
   "execution_count": 64,
   "id": "00f3d3f2",
   "metadata": {},
   "outputs": [
    {
     "data": {
      "text/plain": [
       "REPORTED_DATE\n",
       "2022-01-02     422\n",
       "2022-01-09    1487\n",
       "2022-01-16    1588\n",
       "2022-01-23    1721\n",
       "2022-01-30    1679\n",
       "Freq: W-SUN, dtype: int64"
      ]
     },
     "execution_count": 64,
     "metadata": {},
     "output_type": "execute_result"
    }
   ],
   "source": [
    "# 统计每周的报警记录，把周日作为每周的结束\n",
    "weekly_alarm = final_alarm_record.resample('W').size()\n",
    "weekly_alarm.head()"
   ]
  },
  {
   "cell_type": "code",
   "execution_count": 65,
   "id": "f7af4d97",
   "metadata": {},
   "outputs": [
    {
     "data": {
      "image/png": "[encoded data removed]",
      "text/plain": [
       "<Figure size 640x480 with 1 Axes>"
      ]
     },
     "metadata": {},
     "output_type": "display_data"
    }
   ],
   "source": [
    "# 绘制折线图\n",
    "import matplotlib.pyplot as plt\n",
    "# 设置字体为简黑\n",
    "plt.rcParams['font.sans-serif'] = ['SimHei']\n",
    "plt.plot(weekly_alarm.index.values, weekly_alarm.values) \n",
    "plt.title('2022年1~10月某城市周报警记录的统计情况')\n",
    "plt.ylabel('报警记录数量（条）')  \n",
    "plt.show()"
   ]
  },
  {
   "cell_type": "markdown",
   "id": "3377d2c4",
   "metadata": {},
   "source": [
    "#### 3.  画图分析2022 年1～10 月周一至周日交通事故和非交通事故的报警记录"
   ]
  },
  {
   "cell_type": "code",
   "execution_count": 66,
   "id": "29e356b0",
   "metadata": {},
   "outputs": [
    {
     "data": {
      "text/plain": [
       "REPORTED_DATE\n",
       "0    2670\n",
       "1    2831\n",
       "2    2986\n",
       "3    2983\n",
       "4    1984\n",
       "5    1691\n",
       "6    2655\n",
       "Name: count, dtype: int64"
      ]
     },
     "execution_count": 66,
     "metadata": {},
     "output_type": "execute_result"
    }
   ],
   "source": [
    "# 筛选出交通事故的记录\n",
    "left = alarm_record[alarm_record['IS_TRAFFIC'] == 1]['REPORTED_DATE'].dt.weekday.value_counts()\n",
    "left = left.sort_index()\n",
    "left"
   ]
  },
  {
   "cell_type": "code",
   "execution_count": 67,
   "id": "d52c37c7",
   "metadata": {},
   "outputs": [
    {
     "data": {
      "text/plain": [
       "REPORTED_DATE\n",
       "0    7294\n",
       "1    6993\n",
       "2    6916\n",
       "3    7040\n",
       "4    6066\n",
       "5    6082\n",
       "6    7426\n",
       "Name: count, dtype: int64"
      ]
     },
     "execution_count": 67,
     "metadata": {},
     "output_type": "execute_result"
    }
   ],
   "source": [
    "# 筛选出非交通事故的记录\n",
    "right = alarm_record[alarm_record['IS_CRIME'] == 1]['REPORTED_DATE'].dt.weekday.value_counts()\n",
    "right = right.sort_index()\n",
    "right"
   ]
  },
  {
   "cell_type": "code",
   "execution_count": 68,
   "id": "0c319bcc",
   "metadata": {},
   "outputs": [
    {
     "data": {
      "image/png": "[encoded data removed]",
      "text/plain": [
       "<Figure size 640x480 with 1 Axes>"
      ]
     },
     "metadata": {},
     "output_type": "display_data"
    }
   ],
   "source": [
    "import numpy as np\n",
    "x = np.arange(right.size)\n",
    "bar_width = 0.3   # 柱形的宽度\n",
    "rect_blue = plt.bar(x, left.values, tick_label=[\"星期一\", \"星期二\", \"星期三\", \"星期四\", \n",
    "                                                \"星期五\", \"星期六\", \"星期日\"], width=bar_width)  \n",
    "rect_orange = plt.bar(x+bar_width, right.values, width=bar_width)\n",
    "# 添加标题\n",
    "plt.title('2022年1~10月某城市周一至周日交通事故和非交通事故的报警记录')\n",
    "# 设置y轴的标签和刻度范围\n",
    "plt.ylabel('报警记录数量（条）')  \n",
    "plt.ylim(0, 9000)\n",
    "# 添加注释文本\n",
    "def autolabel(rects):\n",
    "    \"\"\"在每个柱形上方添加注释文本\"\"\"\n",
    "    for rect in rects:\n",
    "        rect_height = rect.get_height()     \n",
    "        rect_x = rect.get_x()                 \n",
    "        rect_width = rect.get_width()        \n",
    "        plt.text(rect_x + rect_width / 2, rect_height + 30, \n",
    "                 s='{}'.format(rect_height),\n",
    "                 ha='center', va='bottom', fontsize=8)\n",
    "autolabel(rect_blue)\n",
    "autolabel(rect_orange)\n",
    "# 添加图例\n",
    "plt.legend([rect_blue, rect_orange], ['交通事故', '非交通事故'])\n",
    "plt.show()"
   ]
  },
  {
   "cell_type": "code",
   "execution_count": null,
   "id": "29d231a9",
   "metadata": {},
   "outputs": [],
   "source": []
  }
 ],
 "metadata": {
  "kernelspec": {
   "display_name": "myenv",
   "language": "python",
   "name": "python3"
  },
  "language_info": {
   "codemirror_mode": {
    "name": "ipython",
    "version": 3
   },
   "file_extension": ".py",
   "mimetype": "text/x-python",
   "name": "python",
   "nbconvert_exporter": "python",
   "pygments_lexer": "ipython3",
   "version": "3.13.5"
  },
  "toc": {
   "base_numbering": 1,
   "nav_menu": {},
   "number_sections": true,
   "sideBar": true,
   "skip_h1_title": false,
   "title_cell": "Table of Contents",
   "title_sidebar": "Contents",
   "toc_cell": false,
   "toc_position": {},
   "toc_section_display": true,
   "toc_window_display": false
  }
 },
 "nbformat": 4,
 "nbformat_minor": 5
}
